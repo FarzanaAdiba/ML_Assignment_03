{
  "nbformat": 4,
  "nbformat_minor": 0,
  "metadata": {
    "colab": {
      "provenance": [],
      "authorship_tag": "ABX9TyMH+SOWT+XRwuhkN4Tr6XQf",
      "include_colab_link": true
    },
    "kernelspec": {
      "name": "python3",
      "display_name": "Python 3"
    },
    "language_info": {
      "name": "python"
    },
    "accelerator": "GPU",
    "gpuClass": "standard"
  },
  "cells": [
    {
      "cell_type": "markdown",
      "metadata": {
        "id": "view-in-github",
        "colab_type": "text"
      },
      "source": [
        "<a href=\"https://colab.research.google.com/github/FarzanaAdiba/ML_Assignment_03/blob/main/ML__Assignment3P1_SGD.ipynb\" target=\"_parent\"><img src=\"https://colab.research.google.com/assets/colab-badge.svg\" alt=\"Open In Colab\"/></a>"
      ]
    },
    {
      "cell_type": "code",
      "execution_count": null,
      "metadata": {
        "id": "AHPXyYQxyaqh",
        "colab": {
          "base_uri": "https://localhost:8080/"
        },
        "outputId": "1bdca53a-8ebc-4910-be61-b208ee4bbff5"
      },
      "outputs": [
        {
          "output_type": "stream",
          "name": "stdout",
          "text": [
            "Looking in indexes: https://pypi.org/simple, https://us-python.pkg.dev/colab-wheels/public/simple/\n",
            "Requirement already satisfied: keras in /usr/local/lib/python3.7/dist-packages (2.9.0)\n"
          ]
        }
      ],
      "source": [
        "!pip install keras"
      ]
    },
    {
      "cell_type": "code",
      "source": [
        "import tensorflow as tf\n",
        "from tensorflow import keras\n",
        "import numpy as np\n",
        "from keras.datasets import mnist\n",
        "from keras.models import Model\n",
        "from keras.layers import Dense, Input\n",
        "from keras.layers import Conv2D, MaxPooling2D, Dropout, Flatten\n"
      ],
      "metadata": {
        "id": "1aVJyl27MgyY"
      },
      "execution_count": null,
      "outputs": []
    },
    {
      "cell_type": "code",
      "source": [
        "#importing mnist dataset\n",
        "(x_train, y_train), (x_test, y_test) = mnist.load_data()"
      ],
      "metadata": {
        "id": "bMnd3nkUMxnW",
        "colab": {
          "base_uri": "https://localhost:8080/"
        },
        "outputId": "7f677a45-7a6b-480b-8912-65cd9d7927f5"
      },
      "execution_count": null,
      "outputs": [
        {
          "output_type": "stream",
          "name": "stdout",
          "text": [
            "Downloading data from https://storage.googleapis.com/tensorflow/tf-keras-datasets/mnist.npz\n",
            "11490434/11490434 [==============================] - 0s 0us/step\n"
          ]
        }
      ]
    },
    {
      "cell_type": "code",
      "source": [
        "#normalizing the dataset\n",
        "x_train = x_train.astype('float32')\n",
        "x_test = x_test.astype('float32')\n",
        "x_train /= 255\n",
        "x_test /= 255"
      ],
      "metadata": {
        "id": "rfMUiS8FOB_F"
      },
      "execution_count": null,
      "outputs": []
    },
    {
      "cell_type": "code",
      "source": [
        "x_train[0].shape"
      ],
      "metadata": {
        "colab": {
          "base_uri": "https://localhost:8080/"
        },
        "id": "-fMiALS7ZR2j",
        "outputId": "7eb2f1d9-ba33-465d-9da9-35ece0ace6b1"
      },
      "execution_count": null,
      "outputs": [
        {
          "output_type": "execute_result",
          "data": {
            "text/plain": [
              "(28, 28)"
            ]
          },
          "metadata": {},
          "execution_count": 5
        }
      ]
    },
    {
      "cell_type": "code",
      "source": [
        "x_train=x_train.reshape(len(x_train),28,28,1)\n",
        "x_test=x_test.reshape(len(x_test),28,28,1)"
      ],
      "metadata": {
        "id": "iAbhIR0EOUgr"
      },
      "execution_count": null,
      "outputs": []
    },
    {
      "cell_type": "code",
      "source": [
        "#Creating CNN Model\n",
        "model=tf.keras.models.Sequential()\n",
        "model.add(Conv2D(16, (3, 3), padding='same', activation='relu'))\n",
        "model.add(Conv2D(16, (3, 3), strides=(2, 2), padding='same', activation='relu'))\n",
        "model.add(MaxPooling2D(pool_size=(2, 2), strides=(2,2), padding='same'))\n",
        "model.add(Conv2D(24, (3, 3), padding='same', activation='relu'))\n",
        "model.add(Conv2D(24, (3, 3), strides=(2, 2), padding='same', activation='relu'))\n",
        "model.add(MaxPooling2D(pool_size=(2, 2), strides=(2,2), padding='same'))\n",
        "model.add(Conv2D(32, (3, 3), padding='same', activation='relu'))\n",
        "model.add(Conv2D(32, (3, 3), strides=(2, 2), padding='same', activation='relu'))\n",
        "model.add(MaxPooling2D(pool_size=(2, 2), strides=(2,2), padding='same'))\n",
        "model.add(Conv2D(64, (3, 3), padding='same', activation='relu'))\n",
        "model.add(Conv2D(64, (3, 3), strides=(2, 2), padding='same', activation='relu'))\n",
        "model.add(MaxPooling2D(pool_size=(2, 2), strides=(2,2), padding='same'))\n",
        "model.add(Conv2D(128, (3, 3), padding='same', activation='relu'))\n",
        "model.add(Conv2D(128, (3, 3), strides=(2, 2), padding='same', activation='relu'))\n",
        "model.add(MaxPooling2D(pool_size=(2, 2), strides=(2,2), padding='same'))\n",
        "model.add(tf.keras.layers.Flatten())\n",
        "model.add(tf.keras.layers.Dense(256))\n",
        "model.add(tf.keras.layers.Activation('relu'))\n",
        "model.add(tf.keras.layers.Dense(10))\n",
        "model.add(tf.keras.layers.Activation('softmax'))"
      ],
      "metadata": {
        "id": "UdnBqhWLOdjd"
      },
      "execution_count": null,
      "outputs": []
    },
    {
      "cell_type": "code",
      "source": [
        "#compiling model\n",
        "model.compile(loss='sparse_categorical_crossentropy', optimizer=keras.optimizers.SGD(learning_rate=0.001), metrics=['accuracy'])"
      ],
      "metadata": {
        "id": "KpEVuXh9VpJc"
      },
      "execution_count": null,
      "outputs": []
    },
    {
      "cell_type": "code",
      "source": [
        "model.build(input_shape=(1,28,28,1))\n",
        "model.summary()"
      ],
      "metadata": {
        "colab": {
          "base_uri": "https://localhost:8080/"
        },
        "id": "WjYn_dpxV3KC",
        "outputId": "1e5a5d45-02bd-4ca3-8b15-7eb8cf1068f0"
      },
      "execution_count": null,
      "outputs": [
        {
          "output_type": "stream",
          "name": "stdout",
          "text": [
            "Model: \"sequential\"\n",
            "_________________________________________________________________\n",
            " Layer (type)                Output Shape              Param #   \n",
            "=================================================================\n",
            " conv2d (Conv2D)             (1, 28, 28, 16)           160       \n",
            "                                                                 \n",
            " conv2d_1 (Conv2D)           (1, 14, 14, 16)           2320      \n",
            "                                                                 \n",
            " max_pooling2d (MaxPooling2D  (1, 7, 7, 16)            0         \n",
            " )                                                               \n",
            "                                                                 \n",
            " conv2d_2 (Conv2D)           (1, 7, 7, 24)             3480      \n",
            "                                                                 \n",
            " conv2d_3 (Conv2D)           (1, 4, 4, 24)             5208      \n",
            "                                                                 \n",
            " max_pooling2d_1 (MaxPooling  (1, 2, 2, 24)            0         \n",
            " 2D)                                                             \n",
            "                                                                 \n",
            " conv2d_4 (Conv2D)           (1, 2, 2, 32)             6944      \n",
            "                                                                 \n",
            " conv2d_5 (Conv2D)           (1, 1, 1, 32)             9248      \n",
            "                                                                 \n",
            " max_pooling2d_2 (MaxPooling  (1, 1, 1, 32)            0         \n",
            " 2D)                                                             \n",
            "                                                                 \n",
            " conv2d_6 (Conv2D)           (1, 1, 1, 64)             18496     \n",
            "                                                                 \n",
            " conv2d_7 (Conv2D)           (1, 1, 1, 64)             36928     \n",
            "                                                                 \n",
            " max_pooling2d_3 (MaxPooling  (1, 1, 1, 64)            0         \n",
            " 2D)                                                             \n",
            "                                                                 \n",
            " conv2d_8 (Conv2D)           (1, 1, 1, 128)            73856     \n",
            "                                                                 \n",
            " conv2d_9 (Conv2D)           (1, 1, 1, 128)            147584    \n",
            "                                                                 \n",
            " max_pooling2d_4 (MaxPooling  (1, 1, 1, 128)           0         \n",
            " 2D)                                                             \n",
            "                                                                 \n",
            " flatten (Flatten)           (1, 128)                  0         \n",
            "                                                                 \n",
            " dense (Dense)               (1, 256)                  33024     \n",
            "                                                                 \n",
            " activation (Activation)     (1, 256)                  0         \n",
            "                                                                 \n",
            " dense_1 (Dense)             (1, 10)                   2570      \n",
            "                                                                 \n",
            " activation_1 (Activation)   (1, 10)                   0         \n",
            "                                                                 \n",
            "=================================================================\n",
            "Total params: 339,818\n",
            "Trainable params: 339,818\n",
            "Non-trainable params: 0\n",
            "_________________________________________________________________\n"
          ]
        }
      ]
    },
    {
      "cell_type": "code",
      "source": [
        "model1 = model\n",
        "# Train the model.\n",
        "history1 = model1.fit(\n",
        "    x_train,\n",
        "    y_train, validation_split = 0.2, \n",
        "    batch_size=500,epochs=25)\n"
      ],
      "metadata": {
        "colab": {
          "base_uri": "https://localhost:8080/"
        },
        "id": "KdeEHqU0XIp3",
        "outputId": "9419ce53-eebe-4e6f-800f-c70d3345853a"
      },
      "execution_count": null,
      "outputs": [
        {
          "output_type": "stream",
          "name": "stdout",
          "text": [
            "Epoch 1/25\n",
            "96/96 [==============================] - 13s 16ms/step - loss: 2.3026 - accuracy: 0.1144 - val_loss: 2.3025 - val_accuracy: 0.1060\n",
            "Epoch 2/25\n",
            "96/96 [==============================] - 1s 14ms/step - loss: 2.3025 - accuracy: 0.1140 - val_loss: 2.3025 - val_accuracy: 0.1060\n",
            "Epoch 3/25\n",
            "96/96 [==============================] - 1s 13ms/step - loss: 2.3024 - accuracy: 0.1140 - val_loss: 2.3025 - val_accuracy: 0.1060\n",
            "Epoch 4/25\n",
            "96/96 [==============================] - 1s 13ms/step - loss: 2.3024 - accuracy: 0.1140 - val_loss: 2.3024 - val_accuracy: 0.1060\n",
            "Epoch 5/25\n",
            "96/96 [==============================] - 1s 13ms/step - loss: 2.3023 - accuracy: 0.1140 - val_loss: 2.3024 - val_accuracy: 0.1060\n",
            "Epoch 6/25\n",
            "96/96 [==============================] - 1s 14ms/step - loss: 2.3023 - accuracy: 0.1140 - val_loss: 2.3024 - val_accuracy: 0.1060\n",
            "Epoch 7/25\n",
            "96/96 [==============================] - 1s 14ms/step - loss: 2.3022 - accuracy: 0.1140 - val_loss: 2.3023 - val_accuracy: 0.1060\n",
            "Epoch 8/25\n",
            "96/96 [==============================] - 1s 14ms/step - loss: 2.3022 - accuracy: 0.1140 - val_loss: 2.3023 - val_accuracy: 0.1060\n",
            "Epoch 9/25\n",
            "96/96 [==============================] - 1s 14ms/step - loss: 2.3021 - accuracy: 0.1140 - val_loss: 2.3023 - val_accuracy: 0.1060\n",
            "Epoch 10/25\n",
            "96/96 [==============================] - 1s 14ms/step - loss: 2.3021 - accuracy: 0.1140 - val_loss: 2.3023 - val_accuracy: 0.1060\n",
            "Epoch 11/25\n",
            "96/96 [==============================] - 1s 13ms/step - loss: 2.3021 - accuracy: 0.1140 - val_loss: 2.3022 - val_accuracy: 0.1060\n",
            "Epoch 12/25\n",
            "96/96 [==============================] - 1s 14ms/step - loss: 2.3020 - accuracy: 0.1140 - val_loss: 2.3022 - val_accuracy: 0.1060\n",
            "Epoch 13/25\n",
            "96/96 [==============================] - 1s 13ms/step - loss: 2.3020 - accuracy: 0.1140 - val_loss: 2.3022 - val_accuracy: 0.1060\n",
            "Epoch 14/25\n",
            "96/96 [==============================] - 1s 13ms/step - loss: 2.3019 - accuracy: 0.1140 - val_loss: 2.3022 - val_accuracy: 0.1060\n",
            "Epoch 15/25\n",
            "96/96 [==============================] - 1s 14ms/step - loss: 2.3019 - accuracy: 0.1140 - val_loss: 2.3021 - val_accuracy: 0.1060\n",
            "Epoch 16/25\n",
            "96/96 [==============================] - 1s 14ms/step - loss: 2.3019 - accuracy: 0.1140 - val_loss: 2.3021 - val_accuracy: 0.1060\n",
            "Epoch 17/25\n",
            "96/96 [==============================] - 1s 14ms/step - loss: 2.3018 - accuracy: 0.1140 - val_loss: 2.3021 - val_accuracy: 0.1060\n",
            "Epoch 18/25\n",
            "96/96 [==============================] - 1s 13ms/step - loss: 2.3018 - accuracy: 0.1140 - val_loss: 2.3021 - val_accuracy: 0.1060\n",
            "Epoch 19/25\n",
            "96/96 [==============================] - 1s 13ms/step - loss: 2.3018 - accuracy: 0.1140 - val_loss: 2.3021 - val_accuracy: 0.1060\n",
            "Epoch 20/25\n",
            "96/96 [==============================] - 1s 13ms/step - loss: 2.3017 - accuracy: 0.1140 - val_loss: 2.3021 - val_accuracy: 0.1060\n",
            "Epoch 21/25\n",
            "96/96 [==============================] - 1s 13ms/step - loss: 2.3017 - accuracy: 0.1140 - val_loss: 2.3020 - val_accuracy: 0.1060\n",
            "Epoch 22/25\n",
            "96/96 [==============================] - 1s 14ms/step - loss: 2.3017 - accuracy: 0.1140 - val_loss: 2.3020 - val_accuracy: 0.1060\n",
            "Epoch 23/25\n",
            "96/96 [==============================] - 1s 14ms/step - loss: 2.3017 - accuracy: 0.1140 - val_loss: 2.3020 - val_accuracy: 0.1060\n",
            "Epoch 24/25\n",
            "96/96 [==============================] - 1s 14ms/step - loss: 2.3016 - accuracy: 0.1140 - val_loss: 2.3020 - val_accuracy: 0.1060\n",
            "Epoch 25/25\n",
            "96/96 [==============================] - 1s 13ms/step - loss: 2.3016 - accuracy: 0.1140 - val_loss: 2.3020 - val_accuracy: 0.1060\n"
          ]
        }
      ]
    },
    {
      "cell_type": "code",
      "source": [
        "import matplotlib.pyplot as plt\n",
        "plt.plot(history1.history['accuracy'])\n",
        "plt.plot(history1.history['val_accuracy'])\n",
        "plt.title('Regular CNN model accuracy')\n",
        "plt.ylabel('accuracy')\n",
        "plt.xlabel('epochs')\n",
        "plt.legend(['train', 'val'], loc='lower right')\n",
        "plt.show()"
      ],
      "metadata": {
        "colab": {
          "base_uri": "https://localhost:8080/",
          "height": 295
        },
        "id": "W8qdjc6ScTjV",
        "outputId": "d303e0af-ff7f-48dc-b1f6-370db0798f8e"
      },
      "execution_count": null,
      "outputs": [
        {
          "output_type": "display_data",
          "data": {
            "text/plain": [
              "<Figure size 432x288 with 1 Axes>"
            ],
            "image/png": "[encoded data removed]"
          },
          "metadata": {
            "needs_background": "light"
          }
        }
      ]
    },
    {
      "cell_type": "code",
      "source": [
        "# Evaluation\n",
        "score = model1.evaluate(x_test, y_test)\n",
        "print('Test loss:', score[0])\n",
        "print('Test accuracy:', score[1])"
      ],
      "metadata": {
        "colab": {
          "base_uri": "https://localhost:8080/"
        },
        "id": "44CNIKt8RmMT",
        "outputId": "f4a85a6e-dc87-4023-f927-c8221cbad8df"
      },
      "execution_count": null,
      "outputs": [
        {
          "output_type": "stream",
          "name": "stdout",
          "text": [
            "313/313 [==============================] - 1s 4ms/step - loss: 2.3016 - accuracy: 0.1135\n",
            "Test loss: 2.3015823364257812\n",
            "Test accuracy: 0.11349999904632568\n"
          ]
        }
      ]
    },
    {
      "cell_type": "markdown",
      "source": [
        "###Inverted CNN"
      ],
      "metadata": {
        "id": "IYwcxtAMFC-F"
      }
    },
    {
      "cell_type": "code",
      "source": [
        "#Creating Inverted CNN Model\n",
        "Inv_model=tf.keras.models.Sequential()\n",
        "\n",
        "Inv_model.add(Conv2D(128, (3, 3), padding='same', activation='relu'))\n",
        "Inv_model.add(Conv2D(128, (3, 3), strides=(2, 2), padding='same', activation='relu'))\n",
        "Inv_model.add(MaxPooling2D(pool_size=(2, 2), strides=(2,2), padding='same'))\n",
        "Inv_model.add(Conv2D(64, (3, 3), padding='same', activation='relu'))\n",
        "Inv_model.add(Conv2D(64, (3, 3), strides=(2, 2), padding='same', activation='relu'))\n",
        "Inv_model.add(MaxPooling2D(pool_size=(2, 2), strides=(2,2), padding='same'))\n",
        "Inv_model.add(Conv2D(32, (3, 3), padding='same', activation='relu'))\n",
        "Inv_model.add(Conv2D(32, (3, 3), strides=(2, 2), padding='same', activation='relu'))\n",
        "Inv_model.add(MaxPooling2D(pool_size=(2, 2), strides=(2,2), padding='same'))\n",
        "Inv_model.add(Conv2D(24, (3, 3), padding='same', activation='relu'))\n",
        "Inv_model.add(Conv2D(24, (3, 3), strides=(2, 2), padding='same', activation='relu'))\n",
        "Inv_model.add(MaxPooling2D(pool_size=(2, 2), strides=(2,2), padding='same'))\n",
        "Inv_model.add(Conv2D(16, (3, 3), padding='same', activation='relu'))\n",
        "Inv_model.add(Conv2D(16, (3, 3), strides=(2, 2), padding='same', activation='relu'))\n",
        "Inv_model.add(MaxPooling2D(pool_size=(2, 2), strides=(2,2), padding='same'))\n",
        "\n",
        "Inv_model.add(tf.keras.layers.Flatten())\n",
        "Inv_model.add(tf.keras.layers.Dense(256))\n",
        "Inv_model.add(tf.keras.layers.Activation('relu'))\n",
        "Inv_model.add(tf.keras.layers.Dense(10))\n",
        "Inv_model.add(tf.keras.layers.Activation('softmax'))"
      ],
      "metadata": {
        "id": "uG2obCibFCI1"
      },
      "execution_count": null,
      "outputs": []
    },
    {
      "cell_type": "code",
      "source": [
        "#compiling model\n",
        "Inv_model.compile(loss='sparse_categorical_crossentropy', optimizer=keras.optimizers.SGD(learning_rate=0.001), metrics=['accuracy'])"
      ],
      "metadata": {
        "id": "s-HahlOQGdqO"
      },
      "execution_count": null,
      "outputs": []
    },
    {
      "cell_type": "code",
      "source": [
        "Inv_model.build(input_shape=(1,28,28,1))\n",
        "Inv_model.summary()"
      ],
      "metadata": {
        "colab": {
          "base_uri": "https://localhost:8080/"
        },
        "id": "epeXu_ViGf4X",
        "outputId": "187c6de9-2d7d-494a-a0a3-cdc2194e3b41"
      },
      "execution_count": null,
      "outputs": [
        {
          "output_type": "stream",
          "name": "stdout",
          "text": [
            "Model: \"sequential_1\"\n",
            "_________________________________________________________________\n",
            " Layer (type)                Output Shape              Param #   \n",
            "=================================================================\n",
            " conv2d_10 (Conv2D)          (1, 28, 28, 128)          1280      \n",
            "                                                                 \n",
            " conv2d_11 (Conv2D)          (1, 14, 14, 128)          147584    \n",
            "                                                                 \n",
            " max_pooling2d_5 (MaxPooling  (1, 7, 7, 128)           0         \n",
            " 2D)                                                             \n",
            "                                                                 \n",
            " conv2d_12 (Conv2D)          (1, 7, 7, 64)             73792     \n",
            "                                                                 \n",
            " conv2d_13 (Conv2D)          (1, 4, 4, 64)             36928     \n",
            "                                                                 \n",
            " max_pooling2d_6 (MaxPooling  (1, 2, 2, 64)            0         \n",
            " 2D)                                                             \n",
            "                                                                 \n",
            " conv2d_14 (Conv2D)          (1, 2, 2, 32)             18464     \n",
            "                                                                 \n",
            " conv2d_15 (Conv2D)          (1, 1, 1, 32)             9248      \n",
            "                                                                 \n",
            " max_pooling2d_7 (MaxPooling  (1, 1, 1, 32)            0         \n",
            " 2D)                                                             \n",
            "                                                                 \n",
            " conv2d_16 (Conv2D)          (1, 1, 1, 24)             6936      \n",
            "                                                                 \n",
            " conv2d_17 (Conv2D)          (1, 1, 1, 24)             5208      \n",
            "                                                                 \n",
            " max_pooling2d_8 (MaxPooling  (1, 1, 1, 24)            0         \n",
            " 2D)                                                             \n",
            "                                                                 \n",
            " conv2d_18 (Conv2D)          (1, 1, 1, 16)             3472      \n",
            "                                                                 \n",
            " conv2d_19 (Conv2D)          (1, 1, 1, 16)             2320      \n",
            "                                                                 \n",
            " max_pooling2d_9 (MaxPooling  (1, 1, 1, 16)            0         \n",
            " 2D)                                                             \n",
            "                                                                 \n",
            " flatten_1 (Flatten)         (1, 16)                   0         \n",
            "                                                                 \n",
            " dense_2 (Dense)             (1, 256)                  4352      \n",
            "                                                                 \n",
            " activation_2 (Activation)   (1, 256)                  0         \n",
            "                                                                 \n",
            " dense_3 (Dense)             (1, 10)                   2570      \n",
            "                                                                 \n",
            " activation_3 (Activation)   (1, 10)                   0         \n",
            "                                                                 \n",
            "=================================================================\n",
            "Total params: 312,154\n",
            "Trainable params: 312,154\n",
            "Non-trainable params: 0\n",
            "_________________________________________________________________\n"
          ]
        }
      ]
    },
    {
      "cell_type": "code",
      "source": [
        "model2 = Inv_model\n",
        "# Train the model.\n",
        "history2 = model2.fit(\n",
        "    x_train,\n",
        "    y_train, validation_split = 0.2, \n",
        "    batch_size=500,epochs=25)\n"
      ],
      "metadata": {
        "colab": {
          "base_uri": "https://localhost:8080/"
        },
        "id": "HbL4BYSkIXMK",
        "outputId": "ecac0c79-5940-473a-a0c7-7817e8ffa064"
      },
      "execution_count": null,
      "outputs": [
        {
          "output_type": "stream",
          "name": "stdout",
          "text": [
            "Epoch 1/25\n",
            "96/96 [==============================] - 8s 70ms/step - loss: 2.3026 - accuracy: 0.1141 - val_loss: 2.3025 - val_accuracy: 0.1060\n",
            "Epoch 2/25\n",
            "96/96 [==============================] - 6s 67ms/step - loss: 2.3025 - accuracy: 0.1140 - val_loss: 2.3025 - val_accuracy: 0.1060\n",
            "Epoch 3/25\n",
            "96/96 [==============================] - 6s 68ms/step - loss: 2.3024 - accuracy: 0.1140 - val_loss: 2.3025 - val_accuracy: 0.1060\n",
            "Epoch 4/25\n",
            "96/96 [==============================] - 6s 66ms/step - loss: 2.3024 - accuracy: 0.1140 - val_loss: 2.3024 - val_accuracy: 0.1060\n",
            "Epoch 5/25\n",
            "96/96 [==============================] - 6s 68ms/step - loss: 2.3023 - accuracy: 0.1140 - val_loss: 2.3024 - val_accuracy: 0.1060\n",
            "Epoch 6/25\n",
            "96/96 [==============================] - 7s 68ms/step - loss: 2.3023 - accuracy: 0.1140 - val_loss: 2.3024 - val_accuracy: 0.1060\n",
            "Epoch 7/25\n",
            "96/96 [==============================] - 7s 68ms/step - loss: 2.3022 - accuracy: 0.1140 - val_loss: 2.3024 - val_accuracy: 0.1060\n",
            "Epoch 8/25\n",
            "96/96 [==============================] - 7s 68ms/step - loss: 2.3022 - accuracy: 0.1140 - val_loss: 2.3023 - val_accuracy: 0.1060\n",
            "Epoch 9/25\n",
            "96/96 [==============================] - 6s 67ms/step - loss: 2.3021 - accuracy: 0.1140 - val_loss: 2.3023 - val_accuracy: 0.1060\n",
            "Epoch 10/25\n",
            "96/96 [==============================] - 7s 69ms/step - loss: 2.3021 - accuracy: 0.1140 - val_loss: 2.3023 - val_accuracy: 0.1060\n",
            "Epoch 11/25\n",
            "96/96 [==============================] - 7s 69ms/step - loss: 2.3021 - accuracy: 0.1140 - val_loss: 2.3023 - val_accuracy: 0.1060\n",
            "Epoch 12/25\n",
            "96/96 [==============================] - 6s 68ms/step - loss: 2.3020 - accuracy: 0.1140 - val_loss: 2.3022 - val_accuracy: 0.1060\n",
            "Epoch 13/25\n",
            "96/96 [==============================] - 7s 69ms/step - loss: 2.3020 - accuracy: 0.1140 - val_loss: 2.3022 - val_accuracy: 0.1060\n",
            "Epoch 14/25\n",
            "96/96 [==============================] - 7s 69ms/step - loss: 2.3019 - accuracy: 0.1140 - val_loss: 2.3022 - val_accuracy: 0.1060\n",
            "Epoch 15/25\n",
            "96/96 [==============================] - 7s 69ms/step - loss: 2.3019 - accuracy: 0.1140 - val_loss: 2.3022 - val_accuracy: 0.1060\n",
            "Epoch 16/25\n",
            "96/96 [==============================] - 6s 67ms/step - loss: 2.3019 - accuracy: 0.1140 - val_loss: 2.3022 - val_accuracy: 0.1060\n",
            "Epoch 17/25\n",
            "96/96 [==============================] - 6s 67ms/step - loss: 2.3018 - accuracy: 0.1140 - val_loss: 2.3021 - val_accuracy: 0.1060\n",
            "Epoch 18/25\n",
            "96/96 [==============================] - 7s 69ms/step - loss: 2.3018 - accuracy: 0.1140 - val_loss: 2.3021 - val_accuracy: 0.1060\n",
            "Epoch 19/25\n",
            "96/96 [==============================] - 6s 67ms/step - loss: 2.3018 - accuracy: 0.1140 - val_loss: 2.3021 - val_accuracy: 0.1060\n",
            "Epoch 20/25\n",
            "96/96 [==============================] - 6s 67ms/step - loss: 2.3017 - accuracy: 0.1140 - val_loss: 2.3021 - val_accuracy: 0.1060\n",
            "Epoch 21/25\n",
            "96/96 [==============================] - 7s 69ms/step - loss: 2.3017 - accuracy: 0.1140 - val_loss: 2.3021 - val_accuracy: 0.1060\n",
            "Epoch 22/25\n",
            "96/96 [==============================] - 7s 69ms/step - loss: 2.3017 - accuracy: 0.1140 - val_loss: 2.3021 - val_accuracy: 0.1060\n",
            "Epoch 23/25\n",
            "96/96 [==============================] - 6s 67ms/step - loss: 2.3017 - accuracy: 0.1140 - val_loss: 2.3021 - val_accuracy: 0.1060\n",
            "Epoch 24/25\n",
            "96/96 [==============================] - 6s 67ms/step - loss: 2.3016 - accuracy: 0.1140 - val_loss: 2.3020 - val_accuracy: 0.1060\n",
            "Epoch 25/25\n",
            "96/96 [==============================] - 7s 69ms/step - loss: 2.3016 - accuracy: 0.1140 - val_loss: 2.3020 - val_accuracy: 0.1060\n"
          ]
        }
      ]
    },
    {
      "cell_type": "code",
      "source": [
        "import matplotlib.pyplot as plt\n",
        "plt.plot(history2.history['accuracy'])\n",
        "plt.plot(history2.history['val_accuracy'])\n",
        "plt.title('Inverted CNN model accuracy')\n",
        "plt.ylabel('accuracy')\n",
        "plt.xlabel('epoch')\n",
        "plt.legend(['train', 'val'], loc='lower right')\n",
        "plt.show()"
      ],
      "metadata": {
        "colab": {
          "base_uri": "https://localhost:8080/",
          "height": 295
        },
        "id": "OD8f-veiJaMC",
        "outputId": "40f1589e-4dfd-4050-b3ab-8140ef26d1f1"
      },
      "execution_count": null,
      "outputs": [
        {
          "output_type": "display_data",
          "data": {
            "text/plain": [
              "<Figure size 432x288 with 1 Axes>"
            ],
            "image/png": "[encoded data removed]"
          },
          "metadata": {
            "needs_background": "light"
          }
        }
      ]
    },
    {
      "cell_type": "code",
      "source": [
        "# Evaluation\n",
        "score2 = model2.evaluate(x_test, y_test)\n",
        "print('Test loss:', score2[0])\n",
        "print('Test accuracy:', score2[1])"
      ],
      "metadata": {
        "colab": {
          "base_uri": "https://localhost:8080/"
        },
        "id": "So_skXaUR19x",
        "outputId": "927aa2cd-c00c-4d44-8dd1-786121c1302b"
      },
      "execution_count": null,
      "outputs": [
        {
          "output_type": "stream",
          "name": "stdout",
          "text": [
            "313/313 [==============================] - 2s 4ms/step - loss: 2.3016 - accuracy: 0.1135\n",
            "Test loss: 2.3016209602355957\n",
            "Test accuracy: 0.11349999904632568\n"
          ]
        }
      ]
    },
    {
      "cell_type": "markdown",
      "source": [
        "###Hour-glass shaped CNN where the number of filters will increase"
      ],
      "metadata": {
        "id": "oT6Dr36qJq2Y"
      }
    },
    {
      "cell_type": "code",
      "source": [
        "#Creating CNN Model\n",
        "hg_model=tf.keras.models.Sequential()\n",
        "hg_model.add(Conv2D(16, (3, 3), padding='same', activation='relu'))\n",
        "hg_model.add(Conv2D(16, (3, 3), strides=(2, 2), padding='same', activation='relu'))\n",
        "hg_model.add(MaxPooling2D(pool_size=(2, 2), strides=(2,2), padding='same'))\n",
        "hg_model.add(Conv2D(24, (3, 3), padding='same', activation='relu'))\n",
        "hg_model.add(Conv2D(24, (3, 3), strides=(2, 2), padding='same', activation='relu'))\n",
        "hg_model.add(MaxPooling2D(pool_size=(2, 2), strides=(2,2), padding='same'))\n",
        "hg_model.add(Conv2D(32, (3, 3), padding='same', activation='relu'))\n",
        "hg_model.add(Conv2D(32, (3, 3), strides=(2, 2), padding='same', activation='relu'))\n",
        "hg_model.add(MaxPooling2D(pool_size=(2, 2), strides=(2,2), padding='same'))\n",
        "hg_model.add(Conv2D(64, (3, 3), padding='same', activation='relu'))\n",
        "hg_model.add(Conv2D(64, (3, 3), strides=(2, 2), padding='same', activation='relu'))\n",
        "hg_model.add(MaxPooling2D(pool_size=(2, 2), strides=(2,2), padding='same'))\n",
        "hg_model.add(Conv2D(128, (3, 3), padding='same', activation='relu'))\n",
        "hg_model.add(Conv2D(128, (3, 3), strides=(2, 2), padding='same', activation='relu'))\n",
        "hg_model.add(MaxPooling2D(pool_size=(2, 2), strides=(2,2), padding='same'))\n",
        "hg_model.add(Conv2D(64, (3, 3), padding='same', activation='relu'))\n",
        "hg_model.add(Conv2D(64, (3, 3), strides=(2, 2), padding='same', activation='relu'))\n",
        "hg_model.add(MaxPooling2D(pool_size=(2, 2), strides=(2,2), padding='same'))\n",
        "hg_model.add(Conv2D(32, (3, 3), padding='same', activation='relu'))\n",
        "hg_model.add(Conv2D(32, (3, 3), strides=(2, 2), padding='same', activation='relu'))\n",
        "hg_model.add(MaxPooling2D(pool_size=(2, 2), strides=(2,2), padding='same'))\n",
        "hg_model.add(Conv2D(24, (3, 3), padding='same', activation='relu'))\n",
        "hg_model.add(Conv2D(24, (3, 3), strides=(2, 2), padding='same', activation='relu'))\n",
        "hg_model.add(MaxPooling2D(pool_size=(2, 2), strides=(2,2), padding='same'))\n",
        "hg_model.add(Conv2D(16, (3, 3), padding='same', activation='relu'))\n",
        "hg_model.add(Conv2D(16, (3, 3), strides=(2, 2), padding='same', activation='relu'))\n",
        "hg_model.add(MaxPooling2D(pool_size=(2, 2), strides=(2,2), padding='same'))\n",
        "hg_model.add(tf.keras.layers.Flatten())\n",
        "hg_model.add(tf.keras.layers.Dense(256))\n",
        "hg_model.add(tf.keras.layers.Activation('relu'))\n",
        "hg_model.add(tf.keras.layers.Dense(10))\n",
        "hg_model.add(tf.keras.layers.Activation('softmax'))"
      ],
      "metadata": {
        "id": "D_z03ltrJpmg"
      },
      "execution_count": null,
      "outputs": []
    },
    {
      "cell_type": "code",
      "source": [
        "hg_model.compile(loss='sparse_categorical_crossentropy', optimizer=keras.optimizers.SGD(learning_rate=0.001), metrics=['accuracy'])"
      ],
      "metadata": {
        "id": "zmtOVGmRN4Sf"
      },
      "execution_count": null,
      "outputs": []
    },
    {
      "cell_type": "code",
      "source": [
        "hg_model.build(input_shape=(1,28,28,1))\n",
        "hg_model.summary()"
      ],
      "metadata": {
        "colab": {
          "base_uri": "https://localhost:8080/"
        },
        "id": "p3H1bNpaOBOC",
        "outputId": "77e67407-59d5-493f-fbe7-250866922e38"
      },
      "execution_count": null,
      "outputs": [
        {
          "output_type": "stream",
          "name": "stdout",
          "text": [
            "Model: \"sequential_2\"\n",
            "_________________________________________________________________\n",
            " Layer (type)                Output Shape              Param #   \n",
            "=================================================================\n",
            " conv2d_20 (Conv2D)          (1, 28, 28, 16)           160       \n",
            "                                                                 \n",
            " conv2d_21 (Conv2D)          (1, 14, 14, 16)           2320      \n",
            "                                                                 \n",
            " max_pooling2d_10 (MaxPoolin  (1, 7, 7, 16)            0         \n",
            " g2D)                                                            \n",
            "                                                                 \n",
            " conv2d_22 (Conv2D)          (1, 7, 7, 24)             3480      \n",
            "                                                                 \n",
            " conv2d_23 (Conv2D)          (1, 4, 4, 24)             5208      \n",
            "                                                                 \n",
            " max_pooling2d_11 (MaxPoolin  (1, 2, 2, 24)            0         \n",
            " g2D)                                                            \n",
            "                                                                 \n",
            " conv2d_24 (Conv2D)          (1, 2, 2, 32)             6944      \n",
            "                                                                 \n",
            " conv2d_25 (Conv2D)          (1, 1, 1, 32)             9248      \n",
            "                                                                 \n",
            " max_pooling2d_12 (MaxPoolin  (1, 1, 1, 32)            0         \n",
            " g2D)                                                            \n",
            "                                                                 \n",
            " conv2d_26 (Conv2D)          (1, 1, 1, 64)             18496     \n",
            "                                                                 \n",
            " conv2d_27 (Conv2D)          (1, 1, 1, 64)             36928     \n",
            "                                                                 \n",
            " max_pooling2d_13 (MaxPoolin  (1, 1, 1, 64)            0         \n",
            " g2D)                                                            \n",
            "                                                                 \n",
            " conv2d_28 (Conv2D)          (1, 1, 1, 128)            73856     \n",
            "                                                                 \n",
            " conv2d_29 (Conv2D)          (1, 1, 1, 128)            147584    \n",
            "                                                                 \n",
            " max_pooling2d_14 (MaxPoolin  (1, 1, 1, 128)           0         \n",
            " g2D)                                                            \n",
            "                                                                 \n",
            " conv2d_30 (Conv2D)          (1, 1, 1, 64)             73792     \n",
            "                                                                 \n",
            " conv2d_31 (Conv2D)          (1, 1, 1, 64)             36928     \n",
            "                                                                 \n",
            " max_pooling2d_15 (MaxPoolin  (1, 1, 1, 64)            0         \n",
            " g2D)                                                            \n",
            "                                                                 \n",
            " conv2d_32 (Conv2D)          (1, 1, 1, 32)             18464     \n",
            "                                                                 \n",
            " conv2d_33 (Conv2D)          (1, 1, 1, 32)             9248      \n",
            "                                                                 \n",
            " max_pooling2d_16 (MaxPoolin  (1, 1, 1, 32)            0         \n",
            " g2D)                                                            \n",
            "                                                                 \n",
            " conv2d_34 (Conv2D)          (1, 1, 1, 24)             6936      \n",
            "                                                                 \n",
            " conv2d_35 (Conv2D)          (1, 1, 1, 24)             5208      \n",
            "                                                                 \n",
            " max_pooling2d_17 (MaxPoolin  (1, 1, 1, 24)            0         \n",
            " g2D)                                                            \n",
            "                                                                 \n",
            " conv2d_36 (Conv2D)          (1, 1, 1, 16)             3472      \n",
            "                                                                 \n",
            " conv2d_37 (Conv2D)          (1, 1, 1, 16)             2320      \n",
            "                                                                 \n",
            " max_pooling2d_18 (MaxPoolin  (1, 1, 1, 16)            0         \n",
            " g2D)                                                            \n",
            "                                                                 \n",
            " flatten_2 (Flatten)         (1, 16)                   0         \n",
            "                                                                 \n",
            " dense_4 (Dense)             (1, 256)                  4352      \n",
            "                                                                 \n",
            " activation_4 (Activation)   (1, 256)                  0         \n",
            "                                                                 \n",
            " dense_5 (Dense)             (1, 10)                   2570      \n",
            "                                                                 \n",
            " activation_5 (Activation)   (1, 10)                   0         \n",
            "                                                                 \n",
            "=================================================================\n",
            "Total params: 467,514\n",
            "Trainable params: 467,514\n",
            "Non-trainable params: 0\n",
            "_________________________________________________________________\n"
          ]
        }
      ]
    },
    {
      "cell_type": "code",
      "source": [
        "model3 = hg_model\n",
        "# Train the model.\n",
        "history3 = model3.fit(\n",
        "    x_train,\n",
        "    y_train, validation_split = 0.2, \n",
        "    batch_size=500,epochs=25)\n"
      ],
      "metadata": {
        "colab": {
          "base_uri": "https://localhost:8080/"
        },
        "id": "JIkND1VjOIwk",
        "outputId": "c513d431-8758-4e56-8677-a9b226d7fca3"
      },
      "execution_count": null,
      "outputs": [
        {
          "output_type": "stream",
          "name": "stdout",
          "text": [
            "Epoch 1/25\n",
            "96/96 [==============================] - 3s 19ms/step - loss: 2.3026 - accuracy: 0.1132 - val_loss: 2.3026 - val_accuracy: 0.1060\n",
            "Epoch 2/25\n",
            "96/96 [==============================] - 2s 17ms/step - loss: 2.3025 - accuracy: 0.1140 - val_loss: 2.3025 - val_accuracy: 0.1060\n",
            "Epoch 3/25\n",
            "96/96 [==============================] - 2s 16ms/step - loss: 2.3024 - accuracy: 0.1140 - val_loss: 2.3025 - val_accuracy: 0.1060\n",
            "Epoch 4/25\n",
            "96/96 [==============================] - 2s 17ms/step - loss: 2.3024 - accuracy: 0.1140 - val_loss: 2.3025 - val_accuracy: 0.1060\n",
            "Epoch 5/25\n",
            "96/96 [==============================] - 2s 17ms/step - loss: 2.3023 - accuracy: 0.1140 - val_loss: 2.3024 - val_accuracy: 0.1060\n",
            "Epoch 6/25\n",
            "96/96 [==============================] - 2s 17ms/step - loss: 2.3023 - accuracy: 0.1140 - val_loss: 2.3024 - val_accuracy: 0.1060\n",
            "Epoch 7/25\n",
            "96/96 [==============================] - 2s 17ms/step - loss: 2.3022 - accuracy: 0.1140 - val_loss: 2.3024 - val_accuracy: 0.1060\n",
            "Epoch 8/25\n",
            "96/96 [==============================] - 2s 17ms/step - loss: 2.3022 - accuracy: 0.1140 - val_loss: 2.3023 - val_accuracy: 0.1060\n",
            "Epoch 9/25\n",
            "96/96 [==============================] - 2s 17ms/step - loss: 2.3022 - accuracy: 0.1140 - val_loss: 2.3023 - val_accuracy: 0.1060\n",
            "Epoch 10/25\n",
            "96/96 [==============================] - 2s 20ms/step - loss: 2.3021 - accuracy: 0.1140 - val_loss: 2.3023 - val_accuracy: 0.1060\n",
            "Epoch 11/25\n",
            "96/96 [==============================] - 2s 17ms/step - loss: 2.3021 - accuracy: 0.1140 - val_loss: 2.3023 - val_accuracy: 0.1060\n",
            "Epoch 12/25\n",
            "96/96 [==============================] - 2s 17ms/step - loss: 2.3020 - accuracy: 0.1140 - val_loss: 2.3022 - val_accuracy: 0.1060\n",
            "Epoch 13/25\n",
            "96/96 [==============================] - 2s 17ms/step - loss: 2.3020 - accuracy: 0.1140 - val_loss: 2.3022 - val_accuracy: 0.1060\n",
            "Epoch 14/25\n",
            "96/96 [==============================] - 2s 17ms/step - loss: 2.3020 - accuracy: 0.1140 - val_loss: 2.3022 - val_accuracy: 0.1060\n",
            "Epoch 15/25\n",
            "96/96 [==============================] - 2s 17ms/step - loss: 2.3019 - accuracy: 0.1140 - val_loss: 2.3022 - val_accuracy: 0.1060\n",
            "Epoch 16/25\n",
            "96/96 [==============================] - 2s 17ms/step - loss: 2.3019 - accuracy: 0.1140 - val_loss: 2.3022 - val_accuracy: 0.1060\n",
            "Epoch 17/25\n",
            "96/96 [==============================] - 2s 17ms/step - loss: 2.3018 - accuracy: 0.1140 - val_loss: 2.3022 - val_accuracy: 0.1060\n",
            "Epoch 18/25\n",
            "96/96 [==============================] - 2s 17ms/step - loss: 2.3018 - accuracy: 0.1140 - val_loss: 2.3021 - val_accuracy: 0.1060\n",
            "Epoch 19/25\n",
            "96/96 [==============================] - 2s 17ms/step - loss: 2.3018 - accuracy: 0.1140 - val_loss: 2.3021 - val_accuracy: 0.1060\n",
            "Epoch 20/25\n",
            "96/96 [==============================] - 2s 17ms/step - loss: 2.3018 - accuracy: 0.1140 - val_loss: 2.3021 - val_accuracy: 0.1060\n",
            "Epoch 21/25\n",
            "96/96 [==============================] - 2s 17ms/step - loss: 2.3017 - accuracy: 0.1140 - val_loss: 2.3021 - val_accuracy: 0.1060\n",
            "Epoch 22/25\n",
            "96/96 [==============================] - 2s 17ms/step - loss: 2.3017 - accuracy: 0.1140 - val_loss: 2.3021 - val_accuracy: 0.1060\n",
            "Epoch 23/25\n",
            "96/96 [==============================] - 2s 17ms/step - loss: 2.3017 - accuracy: 0.1140 - val_loss: 2.3021 - val_accuracy: 0.1060\n",
            "Epoch 24/25\n",
            "96/96 [==============================] - 2s 17ms/step - loss: 2.3016 - accuracy: 0.1140 - val_loss: 2.3021 - val_accuracy: 0.1060\n",
            "Epoch 25/25\n",
            "96/96 [==============================] - 2s 17ms/step - loss: 2.3016 - accuracy: 0.1140 - val_loss: 2.3021 - val_accuracy: 0.1060\n"
          ]
        }
      ]
    },
    {
      "cell_type": "code",
      "source": [
        "plt.plot(history3.history['accuracy'])\n",
        "plt.plot(history3.history['val_accuracy'])\n",
        "plt.title('Hour Glass model accuracy')\n",
        "plt.ylabel('accuracy')\n",
        "plt.xlabel('epoch')\n",
        "plt.legend(['train', 'val'], loc='lower right')\n",
        "plt.show()"
      ],
      "metadata": {
        "colab": {
          "base_uri": "https://localhost:8080/",
          "height": 295
        },
        "id": "5yX6BfN_OovX",
        "outputId": "721d5b4d-75ee-4105-afd5-2204ddffc576"
      },
      "execution_count": null,
      "outputs": [
        {
          "output_type": "display_data",
          "data": {
            "text/plain": [
              "<Figure size 432x288 with 1 Axes>"
            ],
            "image/png": "[encoded data removed]"
          },
          "metadata": {
            "needs_background": "light"
          }
        }
      ]
    },
    {
      "cell_type": "code",
      "source": [
        "# Evaluation\n",
        "score3 = model3.evaluate(x_test, y_test)\n",
        "print('Test loss:', score3[0])\n",
        "print('Test accuracy:', score3[1])"
      ],
      "metadata": {
        "colab": {
          "base_uri": "https://localhost:8080/"
        },
        "id": "hF8_1F7cR4ov",
        "outputId": "1536bd61-208b-4fb2-c75a-fc4f723c207e"
      },
      "execution_count": null,
      "outputs": [
        {
          "output_type": "stream",
          "name": "stdout",
          "text": [
            "313/313 [==============================] - 2s 5ms/step - loss: 2.3016 - accuracy: 0.1135\n",
            "Test loss: 2.301619291305542\n",
            "Test accuracy: 0.11349999904632568\n"
          ]
        }
      ]
    },
    {
      "cell_type": "code",
      "source": [],
      "metadata": {
        "id": "R_jCZhJe_sfv"
      },
      "execution_count": null,
      "outputs": []
    }
  ]
}