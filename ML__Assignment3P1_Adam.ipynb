{
  "nbformat": 4,
  "nbformat_minor": 0,
  "metadata": {
    "colab": {
      "provenance": [],
      "authorship_tag": "ABX9TyMwQFuPnbhbcKRPdXHwCS1U",
      "include_colab_link": true
    },
    "kernelspec": {
      "name": "python3",
      "display_name": "Python 3"
    },
    "language_info": {
      "name": "python"
    },
    "accelerator": "GPU",
    "gpuClass": "standard"
  },
  "cells": [
    {
      "cell_type": "markdown",
      "metadata": {
        "id": "view-in-github",
        "colab_type": "text"
      },
      "source": [
        "<a href=\"https://colab.research.google.com/github/FarzanaAdiba/ML_Assignment_03/blob/main/ML__Assignment3P1_Adam.ipynb\" target=\"_parent\"><img src=\"https://colab.research.google.com/assets/colab-badge.svg\" alt=\"Open In Colab\"/></a>"
      ]
    },
    {
      "cell_type": "code",
      "execution_count": null,
      "metadata": {
        "id": "AHPXyYQxyaqh",
        "colab": {
          "base_uri": "https://localhost:8080/"
        },
        "outputId": "848b028d-fb0f-4887-92df-78721b82eb1c"
      },
      "outputs": [
        {
          "output_type": "stream",
          "name": "stdout",
          "text": [
            "Looking in indexes: https://pypi.org/simple, https://us-python.pkg.dev/colab-wheels/public/simple/\n",
            "Requirement already satisfied: keras in /usr/local/lib/python3.7/dist-packages (2.9.0)\n"
          ]
        }
      ],
      "source": [
        "!pip install keras"
      ]
    },
    {
      "cell_type": "code",
      "source": [
        "import tensorflow as tf\n",
        "from tensorflow import keras\n",
        "import numpy as np\n",
        "from keras.datasets import mnist\n",
        "from keras.models import Model\n",
        "from keras.layers import Dense, Input\n",
        "from keras.layers import Conv2D, MaxPooling2D, Dropout, Flatten\n"
      ],
      "metadata": {
        "id": "1aVJyl27MgyY"
      },
      "execution_count": null,
      "outputs": []
    },
    {
      "cell_type": "code",
      "source": [
        "#importing mnist dataset\n",
        "(x_train, y_train), (x_test, y_test) = mnist.load_data()"
      ],
      "metadata": {
        "id": "bMnd3nkUMxnW"
      },
      "execution_count": null,
      "outputs": []
    },
    {
      "cell_type": "code",
      "source": [
        "#normalizing the dataset\n",
        "x_train = x_train.astype('float32')\n",
        "x_test = x_test.astype('float32')\n",
        "x_train /= 255\n",
        "x_test /= 255"
      ],
      "metadata": {
        "id": "rfMUiS8FOB_F"
      },
      "execution_count": null,
      "outputs": []
    },
    {
      "cell_type": "code",
      "source": [
        "x_train[0].shape"
      ],
      "metadata": {
        "colab": {
          "base_uri": "https://localhost:8080/"
        },
        "id": "-fMiALS7ZR2j",
        "outputId": "feac80c0-1ef5-4209-a7da-12f430d18e87"
      },
      "execution_count": null,
      "outputs": [
        {
          "output_type": "execute_result",
          "data": {
            "text/plain": [
              "(28, 28)"
            ]
          },
          "metadata": {},
          "execution_count": 29
        }
      ]
    },
    {
      "cell_type": "code",
      "source": [
        "x_train=x_train.reshape(len(x_train),28,28,1)\n",
        "x_test=x_test.reshape(len(x_test),28,28,1)"
      ],
      "metadata": {
        "id": "iAbhIR0EOUgr"
      },
      "execution_count": null,
      "outputs": []
    },
    {
      "cell_type": "code",
      "source": [
        "#Creating CNN Model\n",
        "model=tf.keras.models.Sequential()\n",
        "model.add(Conv2D(16, (3, 3), padding='same', activation='relu'))\n",
        "model.add(Conv2D(16, (3, 3), strides=(2, 2), padding='same', activation='relu'))\n",
        "model.add(MaxPooling2D(pool_size=(2, 2), strides=(2,2), padding='same'))\n",
        "model.add(Conv2D(24, (3, 3), padding='same', activation='relu'))\n",
        "model.add(Conv2D(24, (3, 3), strides=(2, 2), padding='same', activation='relu'))\n",
        "model.add(MaxPooling2D(pool_size=(2, 2), strides=(2,2), padding='same'))\n",
        "model.add(Conv2D(32, (3, 3), padding='same', activation='relu'))\n",
        "model.add(Conv2D(32, (3, 3), strides=(2, 2), padding='same', activation='relu'))\n",
        "model.add(MaxPooling2D(pool_size=(2, 2), strides=(2,2), padding='same'))\n",
        "model.add(Conv2D(64, (3, 3), padding='same', activation='relu'))\n",
        "model.add(Conv2D(64, (3, 3), strides=(2, 2), padding='same', activation='relu'))\n",
        "model.add(MaxPooling2D(pool_size=(2, 2), strides=(2,2), padding='same'))\n",
        "model.add(Conv2D(128, (3, 3), padding='same', activation='relu'))\n",
        "model.add(Conv2D(128, (3, 3), strides=(2, 2), padding='same', activation='relu'))\n",
        "model.add(MaxPooling2D(pool_size=(2, 2), strides=(2,2), padding='same'))\n",
        "model.add(tf.keras.layers.Flatten())\n",
        "model.add(tf.keras.layers.Dense(256))\n",
        "model.add(tf.keras.layers.Activation('relu'))\n",
        "model.add(tf.keras.layers.Dense(10))\n",
        "model.add(tf.keras.layers.Activation('softmax'))"
      ],
      "metadata": {
        "id": "UdnBqhWLOdjd"
      },
      "execution_count": null,
      "outputs": []
    },
    {
      "cell_type": "code",
      "source": [
        "#compiling model\n",
        "model.compile(loss='sparse_categorical_crossentropy', optimizer=keras.optimizers.Adam(learning_rate=0.001), metrics=['accuracy'])"
      ],
      "metadata": {
        "id": "KpEVuXh9VpJc"
      },
      "execution_count": null,
      "outputs": []
    },
    {
      "cell_type": "code",
      "source": [
        "model.build(input_shape=(1,28,28,1))\n",
        "model.summary()"
      ],
      "metadata": {
        "colab": {
          "base_uri": "https://localhost:8080/"
        },
        "id": "WjYn_dpxV3KC",
        "outputId": "92762fbc-f796-4556-e5a2-00b1f55a5cf5"
      },
      "execution_count": null,
      "outputs": [
        {
          "output_type": "stream",
          "name": "stdout",
          "text": [
            "Model: \"sequential_3\"\n",
            "_________________________________________________________________\n",
            " Layer (type)                Output Shape              Param #   \n",
            "=================================================================\n",
            " conv2d_38 (Conv2D)          (1, 28, 28, 16)           160       \n",
            "                                                                 \n",
            " conv2d_39 (Conv2D)          (1, 14, 14, 16)           2320      \n",
            "                                                                 \n",
            " max_pooling2d_19 (MaxPoolin  (1, 7, 7, 16)            0         \n",
            " g2D)                                                            \n",
            "                                                                 \n",
            " conv2d_40 (Conv2D)          (1, 7, 7, 24)             3480      \n",
            "                                                                 \n",
            " conv2d_41 (Conv2D)          (1, 4, 4, 24)             5208      \n",
            "                                                                 \n",
            " max_pooling2d_20 (MaxPoolin  (1, 2, 2, 24)            0         \n",
            " g2D)                                                            \n",
            "                                                                 \n",
            " conv2d_42 (Conv2D)          (1, 2, 2, 32)             6944      \n",
            "                                                                 \n",
            " conv2d_43 (Conv2D)          (1, 1, 1, 32)             9248      \n",
            "                                                                 \n",
            " max_pooling2d_21 (MaxPoolin  (1, 1, 1, 32)            0         \n",
            " g2D)                                                            \n",
            "                                                                 \n",
            " conv2d_44 (Conv2D)          (1, 1, 1, 64)             18496     \n",
            "                                                                 \n",
            " conv2d_45 (Conv2D)          (1, 1, 1, 64)             36928     \n",
            "                                                                 \n",
            " max_pooling2d_22 (MaxPoolin  (1, 1, 1, 64)            0         \n",
            " g2D)                                                            \n",
            "                                                                 \n",
            " conv2d_46 (Conv2D)          (1, 1, 1, 128)            73856     \n",
            "                                                                 \n",
            " conv2d_47 (Conv2D)          (1, 1, 1, 128)            147584    \n",
            "                                                                 \n",
            " max_pooling2d_23 (MaxPoolin  (1, 1, 1, 128)           0         \n",
            " g2D)                                                            \n",
            "                                                                 \n",
            " flatten_3 (Flatten)         (1, 128)                  0         \n",
            "                                                                 \n",
            " dense_6 (Dense)             (1, 256)                  33024     \n",
            "                                                                 \n",
            " activation_6 (Activation)   (1, 256)                  0         \n",
            "                                                                 \n",
            " dense_7 (Dense)             (1, 10)                   2570      \n",
            "                                                                 \n",
            " activation_7 (Activation)   (1, 10)                   0         \n",
            "                                                                 \n",
            "=================================================================\n",
            "Total params: 339,818\n",
            "Trainable params: 339,818\n",
            "Non-trainable params: 0\n",
            "_________________________________________________________________\n"
          ]
        }
      ]
    },
    {
      "cell_type": "code",
      "source": [
        "model1 = model\n",
        "# Train the model.\n",
        "history1 = model1.fit(\n",
        "    x_train,\n",
        "    y_train, validation_split = 0.2, \n",
        "    batch_size=64,epochs=25)\n"
      ],
      "metadata": {
        "colab": {
          "base_uri": "https://localhost:8080/"
        },
        "id": "KdeEHqU0XIp3",
        "outputId": "1e4e35dd-7eef-4766-90ab-19a520ecdabd"
      },
      "execution_count": null,
      "outputs": [
        {
          "output_type": "stream",
          "name": "stdout",
          "text": [
            "Epoch 1/25\n",
            "750/750 [==============================] - 10s 11ms/step - loss: 1.0635 - accuracy: 0.6019 - val_loss: 0.3357 - val_accuracy: 0.9080\n",
            "Epoch 2/25\n",
            "750/750 [==============================] - 8s 11ms/step - loss: 0.2431 - accuracy: 0.9313 - val_loss: 0.1499 - val_accuracy: 0.9582\n",
            "Epoch 3/25\n",
            "750/750 [==============================] - 5s 6ms/step - loss: 0.1310 - accuracy: 0.9645 - val_loss: 0.1368 - val_accuracy: 0.9659\n",
            "Epoch 4/25\n",
            "750/750 [==============================] - 5s 6ms/step - loss: 0.0966 - accuracy: 0.9734 - val_loss: 0.0854 - val_accuracy: 0.9770\n",
            "Epoch 5/25\n",
            "750/750 [==============================] - 5s 6ms/step - loss: 0.0778 - accuracy: 0.9786 - val_loss: 0.0778 - val_accuracy: 0.9800\n",
            "Epoch 6/25\n",
            "750/750 [==============================] - 5s 6ms/step - loss: 0.0659 - accuracy: 0.9818 - val_loss: 0.0713 - val_accuracy: 0.9806\n",
            "Epoch 7/25\n",
            "750/750 [==============================] - 5s 6ms/step - loss: 0.0570 - accuracy: 0.9843 - val_loss: 0.0808 - val_accuracy: 0.9790\n",
            "Epoch 8/25\n",
            "750/750 [==============================] - 5s 6ms/step - loss: 0.0531 - accuracy: 0.9860 - val_loss: 0.0649 - val_accuracy: 0.9838\n",
            "Epoch 9/25\n",
            "750/750 [==============================] - 5s 6ms/step - loss: 0.0496 - accuracy: 0.9866 - val_loss: 0.0677 - val_accuracy: 0.9827\n",
            "Epoch 10/25\n",
            "750/750 [==============================] - 5s 6ms/step - loss: 0.0429 - accuracy: 0.9883 - val_loss: 0.0706 - val_accuracy: 0.9820\n",
            "Epoch 11/25\n",
            "750/750 [==============================] - 5s 6ms/step - loss: 0.0393 - accuracy: 0.9894 - val_loss: 0.0681 - val_accuracy: 0.9822\n",
            "Epoch 12/25\n",
            "750/750 [==============================] - 5s 6ms/step - loss: 0.0338 - accuracy: 0.9908 - val_loss: 0.0601 - val_accuracy: 0.9871\n",
            "Epoch 13/25\n",
            "750/750 [==============================] - 5s 6ms/step - loss: 0.0325 - accuracy: 0.9912 - val_loss: 0.0633 - val_accuracy: 0.9859\n",
            "Epoch 14/25\n",
            "750/750 [==============================] - 5s 6ms/step - loss: 0.0310 - accuracy: 0.9917 - val_loss: 0.0633 - val_accuracy: 0.9852\n",
            "Epoch 15/25\n",
            "750/750 [==============================] - 5s 6ms/step - loss: 0.0298 - accuracy: 0.9918 - val_loss: 0.0627 - val_accuracy: 0.9852\n",
            "Epoch 16/25\n",
            "750/750 [==============================] - 5s 7ms/step - loss: 0.0253 - accuracy: 0.9931 - val_loss: 0.0642 - val_accuracy: 0.9858\n",
            "Epoch 17/25\n",
            "750/750 [==============================] - 5s 6ms/step - loss: 0.0257 - accuracy: 0.9931 - val_loss: 0.0589 - val_accuracy: 0.9877\n",
            "Epoch 18/25\n",
            "750/750 [==============================] - 5s 6ms/step - loss: 0.0254 - accuracy: 0.9936 - val_loss: 0.0742 - val_accuracy: 0.9847\n",
            "Epoch 19/25\n",
            "750/750 [==============================] - 5s 6ms/step - loss: 0.0235 - accuracy: 0.9937 - val_loss: 0.0557 - val_accuracy: 0.9881\n",
            "Epoch 20/25\n",
            "750/750 [==============================] - 5s 6ms/step - loss: 0.0213 - accuracy: 0.9939 - val_loss: 0.0642 - val_accuracy: 0.9868\n",
            "Epoch 21/25\n",
            "750/750 [==============================] - 5s 6ms/step - loss: 0.0200 - accuracy: 0.9944 - val_loss: 0.0667 - val_accuracy: 0.9864\n",
            "Epoch 22/25\n",
            "750/750 [==============================] - 5s 6ms/step - loss: 0.0185 - accuracy: 0.9950 - val_loss: 0.0621 - val_accuracy: 0.9882\n",
            "Epoch 23/25\n",
            "750/750 [==============================] - 5s 6ms/step - loss: 0.0199 - accuracy: 0.9949 - val_loss: 0.0614 - val_accuracy: 0.9881\n",
            "Epoch 24/25\n",
            "750/750 [==============================] - 5s 6ms/step - loss: 0.0168 - accuracy: 0.9955 - val_loss: 0.0689 - val_accuracy: 0.9867\n",
            "Epoch 25/25\n",
            "750/750 [==============================] - 5s 6ms/step - loss: 0.0175 - accuracy: 0.9951 - val_loss: 0.0644 - val_accuracy: 0.9871\n"
          ]
        }
      ]
    },
    {
      "cell_type": "code",
      "source": [
        "import matplotlib.pyplot as plt\n",
        "plt.plot(history1.history['accuracy'])\n",
        "plt.plot(history1.history['val_accuracy'])\n",
        "plt.title('Regular CNN model accuracy')\n",
        "plt.ylabel('accuracy')\n",
        "plt.xlabel('epochs')\n",
        "plt.legend(['train', 'val'], loc='lower right')\n",
        "plt.show()"
      ],
      "metadata": {
        "colab": {
          "base_uri": "https://localhost:8080/",
          "height": 295
        },
        "id": "W8qdjc6ScTjV",
        "outputId": "836110e9-001d-477d-de0d-f2f54e32949d"
      },
      "execution_count": null,
      "outputs": [
        {
          "output_type": "display_data",
          "data": {
            "text/plain": [
              "<Figure size 432x288 with 1 Axes>"
            ],
            "image/png": "[encoded data removed]"
          },
          "metadata": {
            "needs_background": "light"
          }
        }
      ]
    },
    {
      "cell_type": "code",
      "source": [
        "# Evaluation\n",
        "score = model1.evaluate(x_test, y_test)\n",
        "print('Test loss:', score[0])\n",
        "print('Test accuracy:', score[1])"
      ],
      "metadata": {
        "colab": {
          "base_uri": "https://localhost:8080/"
        },
        "id": "44CNIKt8RmMT",
        "outputId": "6ccee71b-9328-4330-be14-a6fcb056ef4b"
      },
      "execution_count": null,
      "outputs": [
        {
          "output_type": "stream",
          "name": "stdout",
          "text": [
            "313/313 [==============================] - 1s 3ms/step - loss: 0.0557 - accuracy: 0.9890\n",
            "Test loss: 0.055713750422000885\n",
            "Test accuracy: 0.9890000224113464\n"
          ]
        }
      ]
    },
    {
      "cell_type": "markdown",
      "source": [
        "###Inverted CNN"
      ],
      "metadata": {
        "id": "IYwcxtAMFC-F"
      }
    },
    {
      "cell_type": "code",
      "source": [
        "#Creating Inverted CNN Model\n",
        "Inv_model=tf.keras.models.Sequential()\n",
        "\n",
        "Inv_model.add(Conv2D(128, (3, 3), padding='same', activation='relu'))\n",
        "Inv_model.add(Conv2D(128, (3, 3), strides=(2, 2), padding='same', activation='relu'))\n",
        "Inv_model.add(MaxPooling2D(pool_size=(2, 2), strides=(2,2), padding='same'))\n",
        "Inv_model.add(Conv2D(64, (3, 3), padding='same', activation='relu'))\n",
        "Inv_model.add(Conv2D(64, (3, 3), strides=(2, 2), padding='same', activation='relu'))\n",
        "Inv_model.add(MaxPooling2D(pool_size=(2, 2), strides=(2,2), padding='same'))\n",
        "Inv_model.add(Conv2D(32, (3, 3), padding='same', activation='relu'))\n",
        "Inv_model.add(Conv2D(32, (3, 3), strides=(2, 2), padding='same', activation='relu'))\n",
        "Inv_model.add(MaxPooling2D(pool_size=(2, 2), strides=(2,2), padding='same'))\n",
        "Inv_model.add(Conv2D(24, (3, 3), padding='same', activation='relu'))\n",
        "Inv_model.add(Conv2D(24, (3, 3), strides=(2, 2), padding='same', activation='relu'))\n",
        "Inv_model.add(MaxPooling2D(pool_size=(2, 2), strides=(2,2), padding='same'))\n",
        "Inv_model.add(Conv2D(16, (3, 3), padding='same', activation='relu'))\n",
        "Inv_model.add(Conv2D(16, (3, 3), strides=(2, 2), padding='same', activation='relu'))\n",
        "Inv_model.add(MaxPooling2D(pool_size=(2, 2), strides=(2,2), padding='same'))\n",
        "\n",
        "Inv_model.add(tf.keras.layers.Flatten())\n",
        "Inv_model.add(tf.keras.layers.Dense(256))\n",
        "Inv_model.add(tf.keras.layers.Activation('relu'))\n",
        "Inv_model.add(tf.keras.layers.Dense(10))\n",
        "Inv_model.add(tf.keras.layers.Activation('softmax'))"
      ],
      "metadata": {
        "id": "uG2obCibFCI1"
      },
      "execution_count": null,
      "outputs": []
    },
    {
      "cell_type": "code",
      "source": [
        "#compiling model\n",
        "Inv_model.compile(loss='sparse_categorical_crossentropy', optimizer=keras.optimizers.Adam(learning_rate=0.001), metrics=['accuracy'])"
      ],
      "metadata": {
        "id": "s-HahlOQGdqO"
      },
      "execution_count": null,
      "outputs": []
    },
    {
      "cell_type": "code",
      "source": [
        "Inv_model.build(input_shape=(1,28,28,1))\n",
        "Inv_model.summary()"
      ],
      "metadata": {
        "colab": {
          "base_uri": "https://localhost:8080/"
        },
        "id": "epeXu_ViGf4X",
        "outputId": "f0c84d07-5c06-4aa3-9424-d6c09262073a"
      },
      "execution_count": null,
      "outputs": [
        {
          "output_type": "stream",
          "name": "stdout",
          "text": [
            "Model: \"sequential_4\"\n",
            "_________________________________________________________________\n",
            " Layer (type)                Output Shape              Param #   \n",
            "=================================================================\n",
            " conv2d_48 (Conv2D)          (1, 28, 28, 128)          1280      \n",
            "                                                                 \n",
            " conv2d_49 (Conv2D)          (1, 14, 14, 128)          147584    \n",
            "                                                                 \n",
            " max_pooling2d_24 (MaxPoolin  (1, 7, 7, 128)           0         \n",
            " g2D)                                                            \n",
            "                                                                 \n",
            " conv2d_50 (Conv2D)          (1, 7, 7, 64)             73792     \n",
            "                                                                 \n",
            " conv2d_51 (Conv2D)          (1, 4, 4, 64)             36928     \n",
            "                                                                 \n",
            " max_pooling2d_25 (MaxPoolin  (1, 2, 2, 64)            0         \n",
            " g2D)                                                            \n",
            "                                                                 \n",
            " conv2d_52 (Conv2D)          (1, 2, 2, 32)             18464     \n",
            "                                                                 \n",
            " conv2d_53 (Conv2D)          (1, 1, 1, 32)             9248      \n",
            "                                                                 \n",
            " max_pooling2d_26 (MaxPoolin  (1, 1, 1, 32)            0         \n",
            " g2D)                                                            \n",
            "                                                                 \n",
            " conv2d_54 (Conv2D)          (1, 1, 1, 24)             6936      \n",
            "                                                                 \n",
            " conv2d_55 (Conv2D)          (1, 1, 1, 24)             5208      \n",
            "                                                                 \n",
            " max_pooling2d_27 (MaxPoolin  (1, 1, 1, 24)            0         \n",
            " g2D)                                                            \n",
            "                                                                 \n",
            " conv2d_56 (Conv2D)          (1, 1, 1, 16)             3472      \n",
            "                                                                 \n",
            " conv2d_57 (Conv2D)          (1, 1, 1, 16)             2320      \n",
            "                                                                 \n",
            " max_pooling2d_28 (MaxPoolin  (1, 1, 1, 16)            0         \n",
            " g2D)                                                            \n",
            "                                                                 \n",
            " flatten_4 (Flatten)         (1, 16)                   0         \n",
            "                                                                 \n",
            " dense_8 (Dense)             (1, 256)                  4352      \n",
            "                                                                 \n",
            " activation_8 (Activation)   (1, 256)                  0         \n",
            "                                                                 \n",
            " dense_9 (Dense)             (1, 10)                   2570      \n",
            "                                                                 \n",
            " activation_9 (Activation)   (1, 10)                   0         \n",
            "                                                                 \n",
            "=================================================================\n",
            "Total params: 312,154\n",
            "Trainable params: 312,154\n",
            "Non-trainable params: 0\n",
            "_________________________________________________________________\n"
          ]
        }
      ]
    },
    {
      "cell_type": "code",
      "source": [
        "model2 = Inv_model\n",
        "# Train the model.\n",
        "history2 = model2.fit(\n",
        "    x_train,\n",
        "    y_train, validation_split = 0.2, \n",
        "    batch_size=64,epochs=25)\n"
      ],
      "metadata": {
        "colab": {
          "base_uri": "https://localhost:8080/"
        },
        "id": "HbL4BYSkIXMK",
        "outputId": "f071cd00-9355-4dd7-fb22-4819ff9f6c7a"
      },
      "execution_count": null,
      "outputs": [
        {
          "output_type": "stream",
          "name": "stdout",
          "text": [
            "Epoch 1/25\n",
            "750/750 [==============================] - 10s 12ms/step - loss: 0.8576 - accuracy: 0.6700 - val_loss: 0.1798 - val_accuracy: 0.9507\n",
            "Epoch 2/25\n",
            "750/750 [==============================] - 10s 13ms/step - loss: 0.1468 - accuracy: 0.9594 - val_loss: 0.1160 - val_accuracy: 0.9698\n",
            "Epoch 3/25\n",
            "750/750 [==============================] - 9s 12ms/step - loss: 0.0861 - accuracy: 0.9767 - val_loss: 0.0769 - val_accuracy: 0.9797\n",
            "Epoch 4/25\n",
            "750/750 [==============================] - 9s 11ms/step - loss: 0.0631 - accuracy: 0.9831 - val_loss: 0.0669 - val_accuracy: 0.9829\n",
            "Epoch 5/25\n",
            "750/750 [==============================] - 8s 11ms/step - loss: 0.0491 - accuracy: 0.9865 - val_loss: 0.0623 - val_accuracy: 0.9837\n",
            "Epoch 6/25\n",
            "750/750 [==============================] - 9s 12ms/step - loss: 0.0444 - accuracy: 0.9875 - val_loss: 0.0606 - val_accuracy: 0.9855\n",
            "Epoch 7/25\n",
            "750/750 [==============================] - 9s 12ms/step - loss: 0.0365 - accuracy: 0.9906 - val_loss: 0.0500 - val_accuracy: 0.9871\n",
            "Epoch 8/25\n",
            "750/750 [==============================] - 8s 11ms/step - loss: 0.0322 - accuracy: 0.9910 - val_loss: 0.0733 - val_accuracy: 0.9821\n",
            "Epoch 9/25\n",
            "750/750 [==============================] - 8s 11ms/step - loss: 0.0302 - accuracy: 0.9921 - val_loss: 0.0556 - val_accuracy: 0.9875\n",
            "Epoch 10/25\n",
            "750/750 [==============================] - 9s 12ms/step - loss: 0.0267 - accuracy: 0.9930 - val_loss: 0.0704 - val_accuracy: 0.9851\n",
            "Epoch 11/25\n",
            "750/750 [==============================] - 9s 12ms/step - loss: 0.0240 - accuracy: 0.9934 - val_loss: 0.0624 - val_accuracy: 0.9859\n",
            "Epoch 12/25\n",
            "750/750 [==============================] - 8s 11ms/step - loss: 0.0214 - accuracy: 0.9940 - val_loss: 0.0606 - val_accuracy: 0.9871\n",
            "Epoch 13/25\n",
            "750/750 [==============================] - 9s 12ms/step - loss: 0.0191 - accuracy: 0.9946 - val_loss: 0.0601 - val_accuracy: 0.9871\n",
            "Epoch 14/25\n",
            "750/750 [==============================] - 9s 11ms/step - loss: 0.0189 - accuracy: 0.9951 - val_loss: 0.0500 - val_accuracy: 0.9887\n",
            "Epoch 15/25\n",
            "750/750 [==============================] - 9s 12ms/step - loss: 0.0149 - accuracy: 0.9962 - val_loss: 0.0528 - val_accuracy: 0.9880\n",
            "Epoch 16/25\n",
            "750/750 [==============================] - 8s 11ms/step - loss: 0.0162 - accuracy: 0.9958 - val_loss: 0.0523 - val_accuracy: 0.9886\n",
            "Epoch 17/25\n",
            "750/750 [==============================] - 9s 12ms/step - loss: 0.0136 - accuracy: 0.9966 - val_loss: 0.0569 - val_accuracy: 0.9892\n",
            "Epoch 18/25\n",
            "750/750 [==============================] - 9s 12ms/step - loss: 0.0162 - accuracy: 0.9958 - val_loss: 0.0734 - val_accuracy: 0.9845\n",
            "Epoch 19/25\n",
            "750/750 [==============================] - 8s 11ms/step - loss: 0.0161 - accuracy: 0.9963 - val_loss: 0.0554 - val_accuracy: 0.9892\n",
            "Epoch 20/25\n",
            "750/750 [==============================] - 8s 11ms/step - loss: 0.0118 - accuracy: 0.9972 - val_loss: 0.0540 - val_accuracy: 0.9903\n",
            "Epoch 21/25\n",
            "750/750 [==============================] - 8s 11ms/step - loss: 0.0097 - accuracy: 0.9978 - val_loss: 0.0608 - val_accuracy: 0.9894\n",
            "Epoch 22/25\n",
            "750/750 [==============================] - 9s 12ms/step - loss: 0.0142 - accuracy: 0.9967 - val_loss: 0.0675 - val_accuracy: 0.9887\n",
            "Epoch 23/25\n",
            "750/750 [==============================] - 9s 12ms/step - loss: 0.0139 - accuracy: 0.9964 - val_loss: 0.0490 - val_accuracy: 0.9894\n",
            "Epoch 24/25\n",
            "750/750 [==============================] - 8s 11ms/step - loss: 0.0095 - accuracy: 0.9973 - val_loss: 0.0618 - val_accuracy: 0.9874\n",
            "Epoch 25/25\n",
            "750/750 [==============================] - 9s 12ms/step - loss: 0.0091 - accuracy: 0.9979 - val_loss: 0.0525 - val_accuracy: 0.9902\n"
          ]
        }
      ]
    },
    {
      "cell_type": "code",
      "source": [
        "import matplotlib.pyplot as plt\n",
        "plt.plot(history2.history['accuracy'])\n",
        "plt.plot(history2.history['val_accuracy'])\n",
        "plt.title('Inverted CNN model accuracy')\n",
        "plt.ylabel('accuracy')\n",
        "plt.xlabel('epoch')\n",
        "plt.legend(['train', 'val'], loc='lower right')\n",
        "plt.show()"
      ],
      "metadata": {
        "colab": {
          "base_uri": "https://localhost:8080/",
          "height": 295
        },
        "id": "OD8f-veiJaMC",
        "outputId": "c0e4add0-5715-4a0a-8bf6-be2733348427"
      },
      "execution_count": null,
      "outputs": [
        {
          "output_type": "display_data",
          "data": {
            "text/plain": [
              "<Figure size 432x288 with 1 Axes>"
            ],
            "image/png": "[encoded data removed]"
          },
          "metadata": {
            "needs_background": "light"
          }
        }
      ]
    },
    {
      "cell_type": "code",
      "source": [
        "# Evaluation\n",
        "score = model2.evaluate(x_test, y_test)\n",
        "print('Test loss:', score[0])\n",
        "print('Test accuracy:', score[1])"
      ],
      "metadata": {
        "colab": {
          "base_uri": "https://localhost:8080/"
        },
        "id": "So_skXaUR19x",
        "outputId": "3ccbb30c-03da-4327-a5d9-f544ae5f6f11"
      },
      "execution_count": null,
      "outputs": [
        {
          "output_type": "stream",
          "name": "stdout",
          "text": [
            "313/313 [==============================] - 1s 4ms/step - loss: 0.0531 - accuracy: 0.9903\n",
            "Test loss: 0.05314522609114647\n",
            "Test accuracy: 0.9902999997138977\n"
          ]
        }
      ]
    },
    {
      "cell_type": "markdown",
      "source": [
        "###Hour-glass shaped CNN where the number of filters will increase"
      ],
      "metadata": {
        "id": "oT6Dr36qJq2Y"
      }
    },
    {
      "cell_type": "code",
      "source": [
        "#Creating CNN Model\n",
        "hg_model=tf.keras.models.Sequential()\n",
        "hg_model.add(Conv2D(16, (3, 3), padding='same', activation='relu'))\n",
        "hg_model.add(Conv2D(16, (3, 3), strides=(2, 2), padding='same', activation='relu'))\n",
        "hg_model.add(MaxPooling2D(pool_size=(2, 2), strides=(2,2), padding='same'))\n",
        "hg_model.add(Conv2D(24, (3, 3), padding='same', activation='relu'))\n",
        "hg_model.add(Conv2D(24, (3, 3), strides=(2, 2), padding='same', activation='relu'))\n",
        "hg_model.add(MaxPooling2D(pool_size=(2, 2), strides=(2,2), padding='same'))\n",
        "hg_model.add(Conv2D(32, (3, 3), padding='same', activation='relu'))\n",
        "hg_model.add(Conv2D(32, (3, 3), strides=(2, 2), padding='same', activation='relu'))\n",
        "hg_model.add(MaxPooling2D(pool_size=(2, 2), strides=(2,2), padding='same'))\n",
        "hg_model.add(Conv2D(64, (3, 3), padding='same', activation='relu'))\n",
        "hg_model.add(Conv2D(64, (3, 3), strides=(2, 2), padding='same', activation='relu'))\n",
        "hg_model.add(MaxPooling2D(pool_size=(2, 2), strides=(2,2), padding='same'))\n",
        "hg_model.add(Conv2D(128, (3, 3), padding='same', activation='relu'))\n",
        "hg_model.add(Conv2D(128, (3, 3), strides=(2, 2), padding='same', activation='relu'))\n",
        "hg_model.add(MaxPooling2D(pool_size=(2, 2), strides=(2,2), padding='same'))\n",
        "hg_model.add(Conv2D(64, (3, 3), padding='same', activation='relu'))\n",
        "hg_model.add(Conv2D(64, (3, 3), strides=(2, 2), padding='same', activation='relu'))\n",
        "hg_model.add(MaxPooling2D(pool_size=(2, 2), strides=(2,2), padding='same'))\n",
        "hg_model.add(Conv2D(32, (3, 3), padding='same', activation='relu'))\n",
        "hg_model.add(Conv2D(32, (3, 3), strides=(2, 2), padding='same', activation='relu'))\n",
        "hg_model.add(MaxPooling2D(pool_size=(2, 2), strides=(2,2), padding='same'))\n",
        "hg_model.add(Conv2D(24, (3, 3), padding='same', activation='relu'))\n",
        "hg_model.add(Conv2D(24, (3, 3), strides=(2, 2), padding='same', activation='relu'))\n",
        "hg_model.add(MaxPooling2D(pool_size=(2, 2), strides=(2,2), padding='same'))\n",
        "hg_model.add(Conv2D(16, (3, 3), padding='same', activation='relu'))\n",
        "hg_model.add(Conv2D(16, (3, 3), strides=(2, 2), padding='same', activation='relu'))\n",
        "hg_model.add(MaxPooling2D(pool_size=(2, 2), strides=(2,2), padding='same'))\n",
        "hg_model.add(tf.keras.layers.Flatten())\n",
        "hg_model.add(tf.keras.layers.Dense(256))\n",
        "hg_model.add(tf.keras.layers.Activation('relu'))\n",
        "hg_model.add(tf.keras.layers.Dense(10))\n",
        "hg_model.add(tf.keras.layers.Activation('softmax'))"
      ],
      "metadata": {
        "id": "D_z03ltrJpmg"
      },
      "execution_count": null,
      "outputs": []
    },
    {
      "cell_type": "code",
      "source": [
        "hg_model.compile(loss='sparse_categorical_crossentropy', optimizer=keras.optimizers.Adam(learning_rate=0.001), metrics=['accuracy'])"
      ],
      "metadata": {
        "id": "zmtOVGmRN4Sf"
      },
      "execution_count": null,
      "outputs": []
    },
    {
      "cell_type": "code",
      "source": [
        "hg_model.build(input_shape=(1,28,28,1))\n",
        "hg_model.summary()"
      ],
      "metadata": {
        "colab": {
          "base_uri": "https://localhost:8080/"
        },
        "id": "p3H1bNpaOBOC",
        "outputId": "60ba84b8-1982-497c-cf0f-9942fa42b2b9"
      },
      "execution_count": null,
      "outputs": [
        {
          "output_type": "stream",
          "name": "stdout",
          "text": [
            "Model: \"sequential_5\"\n",
            "_________________________________________________________________\n",
            " Layer (type)                Output Shape              Param #   \n",
            "=================================================================\n",
            " conv2d_58 (Conv2D)          (1, 28, 28, 16)           160       \n",
            "                                                                 \n",
            " conv2d_59 (Conv2D)          (1, 14, 14, 16)           2320      \n",
            "                                                                 \n",
            " max_pooling2d_29 (MaxPoolin  (1, 7, 7, 16)            0         \n",
            " g2D)                                                            \n",
            "                                                                 \n",
            " conv2d_60 (Conv2D)          (1, 7, 7, 24)             3480      \n",
            "                                                                 \n",
            " conv2d_61 (Conv2D)          (1, 4, 4, 24)             5208      \n",
            "                                                                 \n",
            " max_pooling2d_30 (MaxPoolin  (1, 2, 2, 24)            0         \n",
            " g2D)                                                            \n",
            "                                                                 \n",
            " conv2d_62 (Conv2D)          (1, 2, 2, 32)             6944      \n",
            "                                                                 \n",
            " conv2d_63 (Conv2D)          (1, 1, 1, 32)             9248      \n",
            "                                                                 \n",
            " max_pooling2d_31 (MaxPoolin  (1, 1, 1, 32)            0         \n",
            " g2D)                                                            \n",
            "                                                                 \n",
            " conv2d_64 (Conv2D)          (1, 1, 1, 64)             18496     \n",
            "                                                                 \n",
            " conv2d_65 (Conv2D)          (1, 1, 1, 64)             36928     \n",
            "                                                                 \n",
            " max_pooling2d_32 (MaxPoolin  (1, 1, 1, 64)            0         \n",
            " g2D)                                                            \n",
            "                                                                 \n",
            " conv2d_66 (Conv2D)          (1, 1, 1, 128)            73856     \n",
            "                                                                 \n",
            " conv2d_67 (Conv2D)          (1, 1, 1, 128)            147584    \n",
            "                                                                 \n",
            " max_pooling2d_33 (MaxPoolin  (1, 1, 1, 128)           0         \n",
            " g2D)                                                            \n",
            "                                                                 \n",
            " conv2d_68 (Conv2D)          (1, 1, 1, 64)             73792     \n",
            "                                                                 \n",
            " conv2d_69 (Conv2D)          (1, 1, 1, 64)             36928     \n",
            "                                                                 \n",
            " max_pooling2d_34 (MaxPoolin  (1, 1, 1, 64)            0         \n",
            " g2D)                                                            \n",
            "                                                                 \n",
            " conv2d_70 (Conv2D)          (1, 1, 1, 32)             18464     \n",
            "                                                                 \n",
            " conv2d_71 (Conv2D)          (1, 1, 1, 32)             9248      \n",
            "                                                                 \n",
            " max_pooling2d_35 (MaxPoolin  (1, 1, 1, 32)            0         \n",
            " g2D)                                                            \n",
            "                                                                 \n",
            " conv2d_72 (Conv2D)          (1, 1, 1, 24)             6936      \n",
            "                                                                 \n",
            " conv2d_73 (Conv2D)          (1, 1, 1, 24)             5208      \n",
            "                                                                 \n",
            " max_pooling2d_36 (MaxPoolin  (1, 1, 1, 24)            0         \n",
            " g2D)                                                            \n",
            "                                                                 \n",
            " conv2d_74 (Conv2D)          (1, 1, 1, 16)             3472      \n",
            "                                                                 \n",
            " conv2d_75 (Conv2D)          (1, 1, 1, 16)             2320      \n",
            "                                                                 \n",
            " max_pooling2d_37 (MaxPoolin  (1, 1, 1, 16)            0         \n",
            " g2D)                                                            \n",
            "                                                                 \n",
            " flatten_5 (Flatten)         (1, 16)                   0         \n",
            "                                                                 \n",
            " dense_10 (Dense)            (1, 256)                  4352      \n",
            "                                                                 \n",
            " activation_10 (Activation)  (1, 256)                  0         \n",
            "                                                                 \n",
            " dense_11 (Dense)            (1, 10)                   2570      \n",
            "                                                                 \n",
            " activation_11 (Activation)  (1, 10)                   0         \n",
            "                                                                 \n",
            "=================================================================\n",
            "Total params: 467,514\n",
            "Trainable params: 467,514\n",
            "Non-trainable params: 0\n",
            "_________________________________________________________________\n"
          ]
        }
      ]
    },
    {
      "cell_type": "code",
      "source": [
        "model3 = hg_model\n",
        "# Train the model.\n",
        "history3 = model3.fit(\n",
        "    x_train,\n",
        "    y_train, validation_split = 0.2, \n",
        "    batch_size=64,epochs=25)\n"
      ],
      "metadata": {
        "colab": {
          "base_uri": "https://localhost:8080/"
        },
        "id": "JIkND1VjOIwk",
        "outputId": "fa73968c-7061-40ca-8a7d-f2c8fd312c73"
      },
      "execution_count": null,
      "outputs": [
        {
          "output_type": "stream",
          "name": "stdout",
          "text": [
            "Epoch 1/25\n",
            "750/750 [==============================] - 8s 9ms/step - loss: 2.3014 - accuracy: 0.1131 - val_loss: 2.3024 - val_accuracy: 0.1060\n",
            "Epoch 2/25\n",
            "750/750 [==============================] - 7s 9ms/step - loss: 2.3012 - accuracy: 0.1140 - val_loss: 2.3020 - val_accuracy: 0.1060\n",
            "Epoch 3/25\n",
            "750/750 [==============================] - 6s 8ms/step - loss: 2.3012 - accuracy: 0.1140 - val_loss: 2.3019 - val_accuracy: 0.1060\n",
            "Epoch 4/25\n",
            "750/750 [==============================] - 7s 9ms/step - loss: 2.3012 - accuracy: 0.1140 - val_loss: 2.3020 - val_accuracy: 0.1060\n",
            "Epoch 5/25\n",
            "750/750 [==============================] - 7s 9ms/step - loss: 2.3012 - accuracy: 0.1140 - val_loss: 2.3020 - val_accuracy: 0.1060\n",
            "Epoch 6/25\n",
            "750/750 [==============================] - 7s 9ms/step - loss: 2.3011 - accuracy: 0.1140 - val_loss: 2.3020 - val_accuracy: 0.1060\n",
            "Epoch 7/25\n",
            "750/750 [==============================] - 6s 8ms/step - loss: 2.3012 - accuracy: 0.1140 - val_loss: 2.3021 - val_accuracy: 0.1060\n",
            "Epoch 8/25\n",
            "750/750 [==============================] - 6s 9ms/step - loss: 2.3011 - accuracy: 0.1140 - val_loss: 2.3019 - val_accuracy: 0.1060\n",
            "Epoch 9/25\n",
            "750/750 [==============================] - 7s 9ms/step - loss: 2.3012 - accuracy: 0.1140 - val_loss: 2.3020 - val_accuracy: 0.1060\n",
            "Epoch 10/25\n",
            "750/750 [==============================] - 6s 8ms/step - loss: 2.3011 - accuracy: 0.1140 - val_loss: 2.3022 - val_accuracy: 0.1060\n",
            "Epoch 11/25\n",
            "750/750 [==============================] - 6s 8ms/step - loss: 2.3011 - accuracy: 0.1140 - val_loss: 2.3023 - val_accuracy: 0.1060\n",
            "Epoch 12/25\n",
            "750/750 [==============================] - 6s 8ms/step - loss: 2.3011 - accuracy: 0.1140 - val_loss: 2.3021 - val_accuracy: 0.1060\n",
            "Epoch 13/25\n",
            "750/750 [==============================] - 7s 9ms/step - loss: 2.3011 - accuracy: 0.1140 - val_loss: 2.3022 - val_accuracy: 0.1060\n",
            "Epoch 14/25\n",
            "750/750 [==============================] - 6s 8ms/step - loss: 2.3011 - accuracy: 0.1140 - val_loss: 2.3020 - val_accuracy: 0.1060\n",
            "Epoch 15/25\n",
            "750/750 [==============================] - 7s 9ms/step - loss: 2.3011 - accuracy: 0.1140 - val_loss: 2.3022 - val_accuracy: 0.1060\n",
            "Epoch 16/25\n",
            "750/750 [==============================] - 6s 8ms/step - loss: 2.3011 - accuracy: 0.1140 - val_loss: 2.3021 - val_accuracy: 0.1060\n",
            "Epoch 17/25\n",
            "750/750 [==============================] - 6s 8ms/step - loss: 2.3011 - accuracy: 0.1140 - val_loss: 2.3021 - val_accuracy: 0.1060\n",
            "Epoch 18/25\n",
            "750/750 [==============================] - 6s 8ms/step - loss: 2.3011 - accuracy: 0.1140 - val_loss: 2.3020 - val_accuracy: 0.1060\n",
            "Epoch 19/25\n",
            "750/750 [==============================] - 6s 8ms/step - loss: 2.3011 - accuracy: 0.1140 - val_loss: 2.3021 - val_accuracy: 0.1060\n",
            "Epoch 20/25\n",
            "750/750 [==============================] - 6s 8ms/step - loss: 2.3011 - accuracy: 0.1140 - val_loss: 2.3020 - val_accuracy: 0.1060\n",
            "Epoch 21/25\n",
            "750/750 [==============================] - 6s 8ms/step - loss: 2.3011 - accuracy: 0.1140 - val_loss: 2.3022 - val_accuracy: 0.1060\n",
            "Epoch 22/25\n",
            "750/750 [==============================] - 6s 8ms/step - loss: 2.3011 - accuracy: 0.1140 - val_loss: 2.3022 - val_accuracy: 0.1060\n",
            "Epoch 23/25\n",
            "750/750 [==============================] - 7s 9ms/step - loss: 2.3011 - accuracy: 0.1140 - val_loss: 2.3022 - val_accuracy: 0.1060\n",
            "Epoch 24/25\n",
            "750/750 [==============================] - 6s 8ms/step - loss: 2.3011 - accuracy: 0.1140 - val_loss: 2.3022 - val_accuracy: 0.1060\n",
            "Epoch 25/25\n",
            "750/750 [==============================] - 6s 8ms/step - loss: 2.3011 - accuracy: 0.1140 - val_loss: 2.3022 - val_accuracy: 0.1060\n"
          ]
        }
      ]
    },
    {
      "cell_type": "code",
      "source": [
        "plt.plot(history3.history['accuracy'])\n",
        "plt.plot(history3.history['val_accuracy'])\n",
        "plt.title('Hour Glass model accuracy')\n",
        "plt.ylabel('accuracy')\n",
        "plt.xlabel('epoch')\n",
        "plt.legend(['train', 'val'], loc='lower right')\n",
        "plt.show()"
      ],
      "metadata": {
        "colab": {
          "base_uri": "https://localhost:8080/",
          "height": 295
        },
        "id": "5yX6BfN_OovX",
        "outputId": "27192844-1984-489b-9d29-af245d66bc02"
      },
      "execution_count": null,
      "outputs": [
        {
          "output_type": "display_data",
          "data": {
            "text/plain": [
              "<Figure size 432x288 with 1 Axes>"
            ],
            "image/png": "[encoded data removed]"
          },
          "metadata": {
            "needs_background": "light"
          }
        }
      ]
    },
    {
      "cell_type": "code",
      "source": [
        "# Evaluation\n",
        "score = model3.evaluate(x_test, y_test)\n",
        "print('Test loss:', score[0])\n",
        "print('Test accuracy:', score[1])"
      ],
      "metadata": {
        "colab": {
          "base_uri": "https://localhost:8080/"
        },
        "id": "hF8_1F7cR4ov",
        "outputId": "3f5ef166-76c9-4414-808e-451e533f79e2"
      },
      "execution_count": null,
      "outputs": [
        {
          "output_type": "stream",
          "name": "stdout",
          "text": [
            "313/313 [==============================] - 2s 5ms/step - loss: 2.3010 - accuracy: 0.1135\n",
            "Test loss: 2.3009707927703857\n",
            "Test accuracy: 0.11349999904632568\n"
          ]
        }
      ]
    },
    {
      "cell_type": "code",
      "source": [],
      "metadata": {
        "id": "R_jCZhJe_sfv"
      },
      "execution_count": null,
      "outputs": []
    }
  ]
}