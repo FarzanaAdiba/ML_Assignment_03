{
  "nbformat": 4,
  "nbformat_minor": 0,
  "metadata": {
    "colab": {
      "provenance": [],
      "authorship_tag": "ABX9TyOybUh+uAABn8NiGOrofx5J",
      "include_colab_link": true
    },
    "kernelspec": {
      "name": "python3",
      "display_name": "Python 3"
    },
    "language_info": {
      "name": "python"
    },
    "accelerator": "GPU",
    "gpuClass": "standard"
  },
  "cells": [
    {
      "cell_type": "markdown",
      "metadata": {
        "id": "view-in-github",
        "colab_type": "text"
      },
      "source": [
        "<a href=\"https://colab.research.google.com/github/FarzanaAdiba/ML_Assignment_03/blob/main/ML__Assignment3P1_RMSProp.ipynb\" target=\"_parent\"><img src=\"https://colab.research.google.com/assets/colab-badge.svg\" alt=\"Open In Colab\"/></a>"
      ]
    },
    {
      "cell_type": "code",
      "execution_count": null,
      "metadata": {
        "id": "AHPXyYQxyaqh",
        "colab": {
          "base_uri": "https://localhost:8080/"
        },
        "outputId": "31a0052e-8aec-4ed6-800b-2efa46808b31"
      },
      "outputs": [
        {
          "output_type": "stream",
          "name": "stdout",
          "text": [
            "Looking in indexes: https://pypi.org/simple, https://us-python.pkg.dev/colab-wheels/public/simple/\n",
            "Requirement already satisfied: keras in /usr/local/lib/python3.7/dist-packages (2.9.0)\n"
          ]
        }
      ],
      "source": [
        "!pip install keras"
      ]
    },
    {
      "cell_type": "code",
      "source": [
        "import tensorflow as tf\n",
        "from tensorflow import keras\n",
        "import numpy as np\n",
        "from keras.datasets import mnist\n",
        "from keras.models import Model\n",
        "from keras.layers import Dense, Input\n",
        "from keras.layers import Conv2D, MaxPooling2D, Dropout, Flatten\n"
      ],
      "metadata": {
        "id": "1aVJyl27MgyY"
      },
      "execution_count": null,
      "outputs": []
    },
    {
      "cell_type": "code",
      "source": [
        "#importing mnist dataset\n",
        "(x_train, y_train), (x_test, y_test) = mnist.load_data()"
      ],
      "metadata": {
        "id": "bMnd3nkUMxnW",
        "colab": {
          "base_uri": "https://localhost:8080/"
        },
        "outputId": "e87d4a12-b85a-468d-a688-2006ae0a51dd"
      },
      "execution_count": null,
      "outputs": [
        {
          "output_type": "stream",
          "name": "stdout",
          "text": [
            "Downloading data from https://storage.googleapis.com/tensorflow/tf-keras-datasets/mnist.npz\n",
            "11490434/11490434 [==============================] - 0s 0us/step\n"
          ]
        }
      ]
    },
    {
      "cell_type": "code",
      "source": [
        "#normalizing the dataset\n",
        "x_train = x_train.astype('float32')\n",
        "x_test = x_test.astype('float32')\n",
        "x_train /= 255\n",
        "x_test /= 255"
      ],
      "metadata": {
        "id": "rfMUiS8FOB_F"
      },
      "execution_count": null,
      "outputs": []
    },
    {
      "cell_type": "code",
      "source": [
        "x_train[0].shape"
      ],
      "metadata": {
        "colab": {
          "base_uri": "https://localhost:8080/"
        },
        "id": "-fMiALS7ZR2j",
        "outputId": "4d7609bb-20c9-453e-bc51-e85697e81f67"
      },
      "execution_count": null,
      "outputs": [
        {
          "output_type": "execute_result",
          "data": {
            "text/plain": [
              "(28, 28)"
            ]
          },
          "metadata": {},
          "execution_count": 5
        }
      ]
    },
    {
      "cell_type": "code",
      "source": [
        "x_train=x_train.reshape(len(x_train),28,28,1)\n",
        "x_test=x_test.reshape(len(x_test),28,28,1)"
      ],
      "metadata": {
        "id": "iAbhIR0EOUgr"
      },
      "execution_count": null,
      "outputs": []
    },
    {
      "cell_type": "code",
      "source": [
        "#Creating CNN Model\n",
        "model=tf.keras.models.Sequential()\n",
        "model.add(Conv2D(16, (3, 3), padding='same', activation='relu'))\n",
        "model.add(Conv2D(16, (3, 3), strides=(2, 2), padding='same', activation='relu'))\n",
        "model.add(MaxPooling2D(pool_size=(2, 2), strides=(2,2), padding='same'))\n",
        "model.add(Conv2D(24, (3, 3), padding='same', activation='relu'))\n",
        "model.add(Conv2D(24, (3, 3), strides=(2, 2), padding='same', activation='relu'))\n",
        "model.add(MaxPooling2D(pool_size=(2, 2), strides=(2,2), padding='same'))\n",
        "model.add(Conv2D(32, (3, 3), padding='same', activation='relu'))\n",
        "model.add(Conv2D(32, (3, 3), strides=(2, 2), padding='same', activation='relu'))\n",
        "model.add(MaxPooling2D(pool_size=(2, 2), strides=(2,2), padding='same'))\n",
        "model.add(Conv2D(64, (3, 3), padding='same', activation='relu'))\n",
        "model.add(Conv2D(64, (3, 3), strides=(2, 2), padding='same', activation='relu'))\n",
        "model.add(MaxPooling2D(pool_size=(2, 2), strides=(2,2), padding='same'))\n",
        "model.add(Conv2D(128, (3, 3), padding='same', activation='relu'))\n",
        "model.add(Conv2D(128, (3, 3), strides=(2, 2), padding='same', activation='relu'))\n",
        "model.add(MaxPooling2D(pool_size=(2, 2), strides=(2,2), padding='same'))\n",
        "model.add(tf.keras.layers.Flatten())\n",
        "model.add(tf.keras.layers.Dense(256))\n",
        "model.add(tf.keras.layers.Activation('relu'))\n",
        "model.add(tf.keras.layers.Dense(10))\n",
        "model.add(tf.keras.layers.Activation('softmax'))"
      ],
      "metadata": {
        "id": "UdnBqhWLOdjd"
      },
      "execution_count": null,
      "outputs": []
    },
    {
      "cell_type": "code",
      "source": [
        "#compiling model\n",
        "model.compile(loss='sparse_categorical_crossentropy', optimizer=keras.optimizers.RMSprop(learning_rate=0.001), metrics=['accuracy'])"
      ],
      "metadata": {
        "id": "KpEVuXh9VpJc"
      },
      "execution_count": null,
      "outputs": []
    },
    {
      "cell_type": "code",
      "source": [
        "model.build(input_shape=(1,28,28,1))\n",
        "model.summary()"
      ],
      "metadata": {
        "colab": {
          "base_uri": "https://localhost:8080/"
        },
        "id": "WjYn_dpxV3KC",
        "outputId": "a69123e5-3d73-4337-f579-fdb2a3a62231"
      },
      "execution_count": null,
      "outputs": [
        {
          "output_type": "stream",
          "name": "stdout",
          "text": [
            "Model: \"sequential\"\n",
            "_________________________________________________________________\n",
            " Layer (type)                Output Shape              Param #   \n",
            "=================================================================\n",
            " conv2d (Conv2D)             (1, 28, 28, 16)           160       \n",
            "                                                                 \n",
            " conv2d_1 (Conv2D)           (1, 14, 14, 16)           2320      \n",
            "                                                                 \n",
            " max_pooling2d (MaxPooling2D  (1, 7, 7, 16)            0         \n",
            " )                                                               \n",
            "                                                                 \n",
            " conv2d_2 (Conv2D)           (1, 7, 7, 24)             3480      \n",
            "                                                                 \n",
            " conv2d_3 (Conv2D)           (1, 4, 4, 24)             5208      \n",
            "                                                                 \n",
            " max_pooling2d_1 (MaxPooling  (1, 2, 2, 24)            0         \n",
            " 2D)                                                             \n",
            "                                                                 \n",
            " conv2d_4 (Conv2D)           (1, 2, 2, 32)             6944      \n",
            "                                                                 \n",
            " conv2d_5 (Conv2D)           (1, 1, 1, 32)             9248      \n",
            "                                                                 \n",
            " max_pooling2d_2 (MaxPooling  (1, 1, 1, 32)            0         \n",
            " 2D)                                                             \n",
            "                                                                 \n",
            " conv2d_6 (Conv2D)           (1, 1, 1, 64)             18496     \n",
            "                                                                 \n",
            " conv2d_7 (Conv2D)           (1, 1, 1, 64)             36928     \n",
            "                                                                 \n",
            " max_pooling2d_3 (MaxPooling  (1, 1, 1, 64)            0         \n",
            " 2D)                                                             \n",
            "                                                                 \n",
            " conv2d_8 (Conv2D)           (1, 1, 1, 128)            73856     \n",
            "                                                                 \n",
            " conv2d_9 (Conv2D)           (1, 1, 1, 128)            147584    \n",
            "                                                                 \n",
            " max_pooling2d_4 (MaxPooling  (1, 1, 1, 128)           0         \n",
            " 2D)                                                             \n",
            "                                                                 \n",
            " flatten (Flatten)           (1, 128)                  0         \n",
            "                                                                 \n",
            " dense (Dense)               (1, 256)                  33024     \n",
            "                                                                 \n",
            " activation (Activation)     (1, 256)                  0         \n",
            "                                                                 \n",
            " dense_1 (Dense)             (1, 10)                   2570      \n",
            "                                                                 \n",
            " activation_1 (Activation)   (1, 10)                   0         \n",
            "                                                                 \n",
            "=================================================================\n",
            "Total params: 339,818\n",
            "Trainable params: 339,818\n",
            "Non-trainable params: 0\n",
            "_________________________________________________________________\n"
          ]
        }
      ]
    },
    {
      "cell_type": "code",
      "source": [
        "model1 = model\n",
        "# Train the model.\n",
        "history1 = model1.fit(\n",
        "    x_train,\n",
        "    y_train, validation_split = 0.2, \n",
        "    batch_size=500,epochs=25)\n"
      ],
      "metadata": {
        "colab": {
          "base_uri": "https://localhost:8080/"
        },
        "id": "KdeEHqU0XIp3",
        "outputId": "fe906945-7431-4445-efa4-3b5a798b9a50"
      },
      "execution_count": null,
      "outputs": [
        {
          "output_type": "stream",
          "name": "stdout",
          "text": [
            "Epoch 1/25\n",
            "96/96 [==============================] - 14s 17ms/step - loss: 1.9257 - accuracy: 0.2544 - val_loss: 1.6127 - val_accuracy: 0.3346\n",
            "Epoch 2/25\n",
            "96/96 [==============================] - 1s 14ms/step - loss: 1.4838 - accuracy: 0.3808 - val_loss: 1.1947 - val_accuracy: 0.5027\n",
            "Epoch 3/25\n",
            "96/96 [==============================] - 1s 14ms/step - loss: 1.1428 - accuracy: 0.5301 - val_loss: 0.8788 - val_accuracy: 0.6654\n",
            "Epoch 4/25\n",
            "96/96 [==============================] - 1s 15ms/step - loss: 0.7964 - accuracy: 0.7234 - val_loss: 0.5534 - val_accuracy: 0.8452\n",
            "Epoch 5/25\n",
            "96/96 [==============================] - 1s 14ms/step - loss: 0.5490 - accuracy: 0.8401 - val_loss: 0.3349 - val_accuracy: 0.9199\n",
            "Epoch 6/25\n",
            "96/96 [==============================] - 1s 14ms/step - loss: 0.3673 - accuracy: 0.8980 - val_loss: 0.3057 - val_accuracy: 0.9148\n",
            "Epoch 7/25\n",
            "96/96 [==============================] - 1s 14ms/step - loss: 0.2794 - accuracy: 0.9220 - val_loss: 0.3268 - val_accuracy: 0.9066\n",
            "Epoch 8/25\n",
            "96/96 [==============================] - 1s 14ms/step - loss: 0.2213 - accuracy: 0.9391 - val_loss: 0.1572 - val_accuracy: 0.9607\n",
            "Epoch 9/25\n",
            "96/96 [==============================] - 1s 15ms/step - loss: 0.1870 - accuracy: 0.9482 - val_loss: 0.1368 - val_accuracy: 0.9678\n",
            "Epoch 10/25\n",
            "96/96 [==============================] - 1s 15ms/step - loss: 0.1465 - accuracy: 0.9590 - val_loss: 0.1177 - val_accuracy: 0.9704\n",
            "Epoch 11/25\n",
            "96/96 [==============================] - 1s 15ms/step - loss: 0.1324 - accuracy: 0.9643 - val_loss: 0.1062 - val_accuracy: 0.9739\n",
            "Epoch 12/25\n",
            "96/96 [==============================] - 1s 15ms/step - loss: 0.1071 - accuracy: 0.9707 - val_loss: 0.0911 - val_accuracy: 0.9759\n",
            "Epoch 13/25\n",
            "96/96 [==============================] - 1s 14ms/step - loss: 0.0910 - accuracy: 0.9740 - val_loss: 0.0893 - val_accuracy: 0.9778\n",
            "Epoch 14/25\n",
            "96/96 [==============================] - 1s 15ms/step - loss: 0.0812 - accuracy: 0.9771 - val_loss: 0.0834 - val_accuracy: 0.9793\n",
            "Epoch 15/25\n",
            "96/96 [==============================] - 2s 16ms/step - loss: 0.0740 - accuracy: 0.9798 - val_loss: 0.0765 - val_accuracy: 0.9800\n",
            "Epoch 16/25\n",
            "96/96 [==============================] - 1s 15ms/step - loss: 0.0632 - accuracy: 0.9830 - val_loss: 0.0886 - val_accuracy: 0.9781\n",
            "Epoch 17/25\n",
            "96/96 [==============================] - 1s 15ms/step - loss: 0.0578 - accuracy: 0.9846 - val_loss: 0.1881 - val_accuracy: 0.9532\n",
            "Epoch 18/25\n",
            "96/96 [==============================] - 1s 15ms/step - loss: 0.0551 - accuracy: 0.9853 - val_loss: 0.0774 - val_accuracy: 0.9811\n",
            "Epoch 19/25\n",
            "96/96 [==============================] - 1s 15ms/step - loss: 0.0463 - accuracy: 0.9872 - val_loss: 0.0699 - val_accuracy: 0.9835\n",
            "Epoch 20/25\n",
            "96/96 [==============================] - 1s 15ms/step - loss: 0.0443 - accuracy: 0.9879 - val_loss: 0.0685 - val_accuracy: 0.9833\n",
            "Epoch 21/25\n",
            "96/96 [==============================] - 1s 15ms/step - loss: 0.0412 - accuracy: 0.9887 - val_loss: 0.0738 - val_accuracy: 0.9823\n",
            "Epoch 22/25\n",
            "96/96 [==============================] - 1s 15ms/step - loss: 0.0380 - accuracy: 0.9891 - val_loss: 0.0825 - val_accuracy: 0.9815\n",
            "Epoch 23/25\n",
            "96/96 [==============================] - 1s 15ms/step - loss: 0.0327 - accuracy: 0.9911 - val_loss: 0.0723 - val_accuracy: 0.9839\n",
            "Epoch 24/25\n",
            "96/96 [==============================] - 1s 15ms/step - loss: 0.0304 - accuracy: 0.9916 - val_loss: 0.0828 - val_accuracy: 0.9813\n",
            "Epoch 25/25\n",
            "96/96 [==============================] - 1s 15ms/step - loss: 0.0290 - accuracy: 0.9915 - val_loss: 0.0681 - val_accuracy: 0.9845\n"
          ]
        }
      ]
    },
    {
      "cell_type": "code",
      "source": [
        "import matplotlib.pyplot as plt\n",
        "plt.plot(history1.history['accuracy'])\n",
        "plt.plot(history1.history['val_accuracy'])\n",
        "plt.title('Regular CNN model accuracy')\n",
        "plt.ylabel('accuracy')\n",
        "plt.xlabel('epochs')\n",
        "plt.legend(['train', 'val'], loc='lower right')\n",
        "plt.show()"
      ],
      "metadata": {
        "colab": {
          "base_uri": "https://localhost:8080/",
          "height": 295
        },
        "id": "W8qdjc6ScTjV",
        "outputId": "e288ca12-db5a-45dd-ff77-1f02c64c05be"
      },
      "execution_count": null,
      "outputs": [
        {
          "output_type": "display_data",
          "data": {
            "text/plain": [
              "<Figure size 432x288 with 1 Axes>"
            ],
            "image/png": "[encoded data removed]"
          },
          "metadata": {
            "needs_background": "light"
          }
        }
      ]
    },
    {
      "cell_type": "code",
      "source": [
        "# Evaluation\n",
        "score = model1.evaluate(x_test, y_test)\n",
        "print('Test loss:', score[0])\n",
        "print('Test accuracy:', score[1])"
      ],
      "metadata": {
        "colab": {
          "base_uri": "https://localhost:8080/"
        },
        "id": "44CNIKt8RmMT",
        "outputId": "f7262307-e765-4c2c-e889-d33cb77343eb"
      },
      "execution_count": null,
      "outputs": [
        {
          "output_type": "stream",
          "name": "stdout",
          "text": [
            "313/313 [==============================] - 1s 4ms/step - loss: 0.0557 - accuracy: 0.9858\n",
            "Test loss: 0.05566263571381569\n",
            "Test accuracy: 0.98580002784729\n"
          ]
        }
      ]
    },
    {
      "cell_type": "markdown",
      "source": [
        "###Inverted CNN"
      ],
      "metadata": {
        "id": "IYwcxtAMFC-F"
      }
    },
    {
      "cell_type": "code",
      "source": [
        "#Creating Inverted CNN Model\n",
        "Inv_model=tf.keras.models.Sequential()\n",
        "\n",
        "Inv_model.add(Conv2D(128, (3, 3), padding='same', activation='relu'))\n",
        "Inv_model.add(Conv2D(128, (3, 3), strides=(2, 2), padding='same', activation='relu'))\n",
        "Inv_model.add(MaxPooling2D(pool_size=(2, 2), strides=(2,2), padding='same'))\n",
        "Inv_model.add(Conv2D(64, (3, 3), padding='same', activation='relu'))\n",
        "Inv_model.add(Conv2D(64, (3, 3), strides=(2, 2), padding='same', activation='relu'))\n",
        "Inv_model.add(MaxPooling2D(pool_size=(2, 2), strides=(2,2), padding='same'))\n",
        "Inv_model.add(Conv2D(32, (3, 3), padding='same', activation='relu'))\n",
        "Inv_model.add(Conv2D(32, (3, 3), strides=(2, 2), padding='same', activation='relu'))\n",
        "Inv_model.add(MaxPooling2D(pool_size=(2, 2), strides=(2,2), padding='same'))\n",
        "Inv_model.add(Conv2D(24, (3, 3), padding='same', activation='relu'))\n",
        "Inv_model.add(Conv2D(24, (3, 3), strides=(2, 2), padding='same', activation='relu'))\n",
        "Inv_model.add(MaxPooling2D(pool_size=(2, 2), strides=(2,2), padding='same'))\n",
        "Inv_model.add(Conv2D(16, (3, 3), padding='same', activation='relu'))\n",
        "Inv_model.add(Conv2D(16, (3, 3), strides=(2, 2), padding='same', activation='relu'))\n",
        "Inv_model.add(MaxPooling2D(pool_size=(2, 2), strides=(2,2), padding='same'))\n",
        "\n",
        "Inv_model.add(tf.keras.layers.Flatten())\n",
        "Inv_model.add(tf.keras.layers.Dense(256))\n",
        "Inv_model.add(tf.keras.layers.Activation('relu'))\n",
        "Inv_model.add(tf.keras.layers.Dense(10))\n",
        "Inv_model.add(tf.keras.layers.Activation('softmax'))"
      ],
      "metadata": {
        "id": "uG2obCibFCI1"
      },
      "execution_count": null,
      "outputs": []
    },
    {
      "cell_type": "code",
      "source": [
        "#compiling model\n",
        "Inv_model.compile(loss='sparse_categorical_crossentropy', optimizer=keras.optimizers.RMSprop(learning_rate=0.001), metrics=['accuracy'])"
      ],
      "metadata": {
        "id": "s-HahlOQGdqO"
      },
      "execution_count": null,
      "outputs": []
    },
    {
      "cell_type": "code",
      "source": [
        "Inv_model.build(input_shape=(1,28,28,1))\n",
        "Inv_model.summary()"
      ],
      "metadata": {
        "colab": {
          "base_uri": "https://localhost:8080/"
        },
        "id": "epeXu_ViGf4X",
        "outputId": "85c18406-e01d-4020-e315-74ad2a92e3cc"
      },
      "execution_count": null,
      "outputs": [
        {
          "output_type": "stream",
          "name": "stdout",
          "text": [
            "Model: \"sequential_1\"\n",
            "_________________________________________________________________\n",
            " Layer (type)                Output Shape              Param #   \n",
            "=================================================================\n",
            " conv2d_10 (Conv2D)          (1, 28, 28, 128)          1280      \n",
            "                                                                 \n",
            " conv2d_11 (Conv2D)          (1, 14, 14, 128)          147584    \n",
            "                                                                 \n",
            " max_pooling2d_5 (MaxPooling  (1, 7, 7, 128)           0         \n",
            " 2D)                                                             \n",
            "                                                                 \n",
            " conv2d_12 (Conv2D)          (1, 7, 7, 64)             73792     \n",
            "                                                                 \n",
            " conv2d_13 (Conv2D)          (1, 4, 4, 64)             36928     \n",
            "                                                                 \n",
            " max_pooling2d_6 (MaxPooling  (1, 2, 2, 64)            0         \n",
            " 2D)                                                             \n",
            "                                                                 \n",
            " conv2d_14 (Conv2D)          (1, 2, 2, 32)             18464     \n",
            "                                                                 \n",
            " conv2d_15 (Conv2D)          (1, 1, 1, 32)             9248      \n",
            "                                                                 \n",
            " max_pooling2d_7 (MaxPooling  (1, 1, 1, 32)            0         \n",
            " 2D)                                                             \n",
            "                                                                 \n",
            " conv2d_16 (Conv2D)          (1, 1, 1, 24)             6936      \n",
            "                                                                 \n",
            " conv2d_17 (Conv2D)          (1, 1, 1, 24)             5208      \n",
            "                                                                 \n",
            " max_pooling2d_8 (MaxPooling  (1, 1, 1, 24)            0         \n",
            " 2D)                                                             \n",
            "                                                                 \n",
            " conv2d_18 (Conv2D)          (1, 1, 1, 16)             3472      \n",
            "                                                                 \n",
            " conv2d_19 (Conv2D)          (1, 1, 1, 16)             2320      \n",
            "                                                                 \n",
            " max_pooling2d_9 (MaxPooling  (1, 1, 1, 16)            0         \n",
            " 2D)                                                             \n",
            "                                                                 \n",
            " flatten_1 (Flatten)         (1, 16)                   0         \n",
            "                                                                 \n",
            " dense_2 (Dense)             (1, 256)                  4352      \n",
            "                                                                 \n",
            " activation_2 (Activation)   (1, 256)                  0         \n",
            "                                                                 \n",
            " dense_3 (Dense)             (1, 10)                   2570      \n",
            "                                                                 \n",
            " activation_3 (Activation)   (1, 10)                   0         \n",
            "                                                                 \n",
            "=================================================================\n",
            "Total params: 312,154\n",
            "Trainable params: 312,154\n",
            "Non-trainable params: 0\n",
            "_________________________________________________________________\n"
          ]
        }
      ]
    },
    {
      "cell_type": "code",
      "source": [
        "model2 = Inv_model\n",
        "# Train the model.\n",
        "history2 = model2.fit(\n",
        "    x_train,\n",
        "    y_train, validation_split = 0.2, \n",
        "    batch_size=500,epochs=25)\n"
      ],
      "metadata": {
        "colab": {
          "base_uri": "https://localhost:8080/"
        },
        "id": "HbL4BYSkIXMK",
        "outputId": "b3918a5e-bc38-45a3-95e5-424735cd8aa8"
      },
      "execution_count": null,
      "outputs": [
        {
          "output_type": "stream",
          "name": "stdout",
          "text": [
            "Epoch 1/25\n",
            "96/96 [==============================] - 9s 73ms/step - loss: 1.8930 - accuracy: 0.2690 - val_loss: 1.5782 - val_accuracy: 0.3824\n",
            "Epoch 2/25\n",
            "96/96 [==============================] - 7s 73ms/step - loss: 1.0331 - accuracy: 0.6094 - val_loss: 0.6526 - val_accuracy: 0.7772\n",
            "Epoch 3/25\n",
            "96/96 [==============================] - 7s 72ms/step - loss: 0.5319 - accuracy: 0.8255 - val_loss: 0.2604 - val_accuracy: 0.9257\n",
            "Epoch 4/25\n",
            "96/96 [==============================] - 7s 73ms/step - loss: 0.2889 - accuracy: 0.9139 - val_loss: 0.1943 - val_accuracy: 0.9411\n",
            "Epoch 5/25\n",
            "96/96 [==============================] - 7s 74ms/step - loss: 0.1843 - accuracy: 0.9473 - val_loss: 0.1432 - val_accuracy: 0.9602\n",
            "Epoch 6/25\n",
            "96/96 [==============================] - 7s 72ms/step - loss: 0.1323 - accuracy: 0.9628 - val_loss: 0.1030 - val_accuracy: 0.9703\n",
            "Epoch 7/25\n",
            "96/96 [==============================] - 7s 72ms/step - loss: 0.0991 - accuracy: 0.9712 - val_loss: 0.1000 - val_accuracy: 0.9729\n",
            "Epoch 8/25\n",
            "96/96 [==============================] - 7s 69ms/step - loss: 0.0792 - accuracy: 0.9780 - val_loss: 0.0917 - val_accuracy: 0.9727\n",
            "Epoch 9/25\n",
            "96/96 [==============================] - 7s 72ms/step - loss: 0.0652 - accuracy: 0.9814 - val_loss: 0.0655 - val_accuracy: 0.9829\n",
            "Epoch 10/25\n",
            "96/96 [==============================] - 7s 71ms/step - loss: 0.0541 - accuracy: 0.9842 - val_loss: 0.0620 - val_accuracy: 0.9822\n",
            "Epoch 11/25\n",
            "96/96 [==============================] - 7s 69ms/step - loss: 0.0443 - accuracy: 0.9871 - val_loss: 0.1217 - val_accuracy: 0.9672\n",
            "Epoch 12/25\n",
            "96/96 [==============================] - 7s 70ms/step - loss: 0.0376 - accuracy: 0.9892 - val_loss: 0.0896 - val_accuracy: 0.9754\n",
            "Epoch 13/25\n",
            "96/96 [==============================] - 7s 70ms/step - loss: 0.0341 - accuracy: 0.9902 - val_loss: 0.0587 - val_accuracy: 0.9851\n",
            "Epoch 14/25\n",
            "96/96 [==============================] - 7s 72ms/step - loss: 0.0272 - accuracy: 0.9924 - val_loss: 0.0578 - val_accuracy: 0.9858\n",
            "Epoch 15/25\n",
            "96/96 [==============================] - 7s 70ms/step - loss: 0.0240 - accuracy: 0.9930 - val_loss: 0.1097 - val_accuracy: 0.9725\n",
            "Epoch 16/25\n",
            "96/96 [==============================] - 7s 72ms/step - loss: 0.0205 - accuracy: 0.9943 - val_loss: 0.0611 - val_accuracy: 0.9860\n",
            "Epoch 17/25\n",
            "96/96 [==============================] - 7s 72ms/step - loss: 0.0189 - accuracy: 0.9945 - val_loss: 0.0648 - val_accuracy: 0.9857\n",
            "Epoch 18/25\n",
            "96/96 [==============================] - 7s 72ms/step - loss: 0.0166 - accuracy: 0.9948 - val_loss: 0.0546 - val_accuracy: 0.9872\n",
            "Epoch 19/25\n",
            "96/96 [==============================] - 7s 72ms/step - loss: 0.0139 - accuracy: 0.9958 - val_loss: 0.0552 - val_accuracy: 0.9876\n",
            "Epoch 20/25\n",
            "96/96 [==============================] - 7s 70ms/step - loss: 0.0147 - accuracy: 0.9957 - val_loss: 0.0518 - val_accuracy: 0.9892\n",
            "Epoch 21/25\n",
            "96/96 [==============================] - 7s 70ms/step - loss: 0.0120 - accuracy: 0.9967 - val_loss: 0.0517 - val_accuracy: 0.9885\n",
            "Epoch 22/25\n",
            "96/96 [==============================] - 7s 72ms/step - loss: 0.0118 - accuracy: 0.9966 - val_loss: 0.0528 - val_accuracy: 0.9892\n",
            "Epoch 23/25\n",
            "96/96 [==============================] - 7s 70ms/step - loss: 0.0110 - accuracy: 0.9968 - val_loss: 0.0593 - val_accuracy: 0.9865\n",
            "Epoch 24/25\n",
            "96/96 [==============================] - 7s 72ms/step - loss: 0.0095 - accuracy: 0.9973 - val_loss: 0.0595 - val_accuracy: 0.9876\n",
            "Epoch 25/25\n",
            "96/96 [==============================] - 7s 70ms/step - loss: 0.0106 - accuracy: 0.9973 - val_loss: 0.0778 - val_accuracy: 0.9827\n"
          ]
        }
      ]
    },
    {
      "cell_type": "code",
      "source": [
        "import matplotlib.pyplot as plt\n",
        "plt.plot(history2.history['accuracy'])\n",
        "plt.plot(history2.history['val_accuracy'])\n",
        "plt.title('Inverted CNN model accuracy')\n",
        "plt.ylabel('accuracy')\n",
        "plt.xlabel('epoch')\n",
        "plt.legend(['train', 'val'], loc='lower right')\n",
        "plt.show()"
      ],
      "metadata": {
        "colab": {
          "base_uri": "https://localhost:8080/",
          "height": 295
        },
        "id": "OD8f-veiJaMC",
        "outputId": "2ecc9a16-12e1-4014-d8b9-fbe5bc874b05"
      },
      "execution_count": null,
      "outputs": [
        {
          "output_type": "display_data",
          "data": {
            "text/plain": [
              "<Figure size 432x288 with 1 Axes>"
            ],
            "image/png": "[encoded data removed]"
          },
          "metadata": {
            "needs_background": "light"
          }
        }
      ]
    },
    {
      "cell_type": "code",
      "source": [
        "# Evaluation\n",
        "score2 = model2.evaluate(x_test, y_test)\n",
        "print('Test loss:', score2[0])\n",
        "print('Test accuracy:', score2[1])"
      ],
      "metadata": {
        "colab": {
          "base_uri": "https://localhost:8080/"
        },
        "id": "So_skXaUR19x",
        "outputId": "cd75b46c-a4e2-49e3-8945-0c1d8d9b301b"
      },
      "execution_count": null,
      "outputs": [
        {
          "output_type": "stream",
          "name": "stdout",
          "text": [
            "313/313 [==============================] - 2s 4ms/step - loss: 0.0653 - accuracy: 0.9867\n",
            "Test loss: 0.06526252627372742\n",
            "Test accuracy: 0.9866999983787537\n"
          ]
        }
      ]
    },
    {
      "cell_type": "markdown",
      "source": [
        "###Hour-glass shaped CNN where the number of filters will increase"
      ],
      "metadata": {
        "id": "oT6Dr36qJq2Y"
      }
    },
    {
      "cell_type": "code",
      "source": [
        "#Creating CNN Model\n",
        "hg_model=tf.keras.models.Sequential()\n",
        "hg_model.add(Conv2D(16, (3, 3), padding='same', activation='relu'))\n",
        "hg_model.add(Conv2D(16, (3, 3), strides=(2, 2), padding='same', activation='relu'))\n",
        "hg_model.add(MaxPooling2D(pool_size=(2, 2), strides=(2,2), padding='same'))\n",
        "hg_model.add(Conv2D(24, (3, 3), padding='same', activation='relu'))\n",
        "hg_model.add(Conv2D(24, (3, 3), strides=(2, 2), padding='same', activation='relu'))\n",
        "hg_model.add(MaxPooling2D(pool_size=(2, 2), strides=(2,2), padding='same'))\n",
        "hg_model.add(Conv2D(32, (3, 3), padding='same', activation='relu'))\n",
        "hg_model.add(Conv2D(32, (3, 3), strides=(2, 2), padding='same', activation='relu'))\n",
        "hg_model.add(MaxPooling2D(pool_size=(2, 2), strides=(2,2), padding='same'))\n",
        "hg_model.add(Conv2D(64, (3, 3), padding='same', activation='relu'))\n",
        "hg_model.add(Conv2D(64, (3, 3), strides=(2, 2), padding='same', activation='relu'))\n",
        "hg_model.add(MaxPooling2D(pool_size=(2, 2), strides=(2,2), padding='same'))\n",
        "hg_model.add(Conv2D(128, (3, 3), padding='same', activation='relu'))\n",
        "hg_model.add(Conv2D(128, (3, 3), strides=(2, 2), padding='same', activation='relu'))\n",
        "hg_model.add(MaxPooling2D(pool_size=(2, 2), strides=(2,2), padding='same'))\n",
        "hg_model.add(Conv2D(64, (3, 3), padding='same', activation='relu'))\n",
        "hg_model.add(Conv2D(64, (3, 3), strides=(2, 2), padding='same', activation='relu'))\n",
        "hg_model.add(MaxPooling2D(pool_size=(2, 2), strides=(2,2), padding='same'))\n",
        "hg_model.add(Conv2D(32, (3, 3), padding='same', activation='relu'))\n",
        "hg_model.add(Conv2D(32, (3, 3), strides=(2, 2), padding='same', activation='relu'))\n",
        "hg_model.add(MaxPooling2D(pool_size=(2, 2), strides=(2,2), padding='same'))\n",
        "hg_model.add(Conv2D(24, (3, 3), padding='same', activation='relu'))\n",
        "hg_model.add(Conv2D(24, (3, 3), strides=(2, 2), padding='same', activation='relu'))\n",
        "hg_model.add(MaxPooling2D(pool_size=(2, 2), strides=(2,2), padding='same'))\n",
        "hg_model.add(Conv2D(16, (3, 3), padding='same', activation='relu'))\n",
        "hg_model.add(Conv2D(16, (3, 3), strides=(2, 2), padding='same', activation='relu'))\n",
        "hg_model.add(MaxPooling2D(pool_size=(2, 2), strides=(2,2), padding='same'))\n",
        "hg_model.add(tf.keras.layers.Flatten())\n",
        "hg_model.add(tf.keras.layers.Dense(256))\n",
        "hg_model.add(tf.keras.layers.Activation('relu'))\n",
        "hg_model.add(tf.keras.layers.Dense(10))\n",
        "hg_model.add(tf.keras.layers.Activation('softmax'))"
      ],
      "metadata": {
        "id": "D_z03ltrJpmg"
      },
      "execution_count": null,
      "outputs": []
    },
    {
      "cell_type": "code",
      "source": [
        "hg_model.compile(loss='sparse_categorical_crossentropy', optimizer=keras.optimizers.RMSprop(learning_rate=0.001), metrics=['accuracy'])"
      ],
      "metadata": {
        "id": "zmtOVGmRN4Sf"
      },
      "execution_count": null,
      "outputs": []
    },
    {
      "cell_type": "code",
      "source": [
        "hg_model.build(input_shape=(1,28,28,1))\n",
        "hg_model.summary()"
      ],
      "metadata": {
        "colab": {
          "base_uri": "https://localhost:8080/"
        },
        "id": "p3H1bNpaOBOC",
        "outputId": "73b0dd31-f0bc-48cc-a566-fe83366acf21"
      },
      "execution_count": null,
      "outputs": [
        {
          "output_type": "stream",
          "name": "stdout",
          "text": [
            "Model: \"sequential_2\"\n",
            "_________________________________________________________________\n",
            " Layer (type)                Output Shape              Param #   \n",
            "=================================================================\n",
            " conv2d_20 (Conv2D)          (1, 28, 28, 16)           160       \n",
            "                                                                 \n",
            " conv2d_21 (Conv2D)          (1, 14, 14, 16)           2320      \n",
            "                                                                 \n",
            " max_pooling2d_10 (MaxPoolin  (1, 7, 7, 16)            0         \n",
            " g2D)                                                            \n",
            "                                                                 \n",
            " conv2d_22 (Conv2D)          (1, 7, 7, 24)             3480      \n",
            "                                                                 \n",
            " conv2d_23 (Conv2D)          (1, 4, 4, 24)             5208      \n",
            "                                                                 \n",
            " max_pooling2d_11 (MaxPoolin  (1, 2, 2, 24)            0         \n",
            " g2D)                                                            \n",
            "                                                                 \n",
            " conv2d_24 (Conv2D)          (1, 2, 2, 32)             6944      \n",
            "                                                                 \n",
            " conv2d_25 (Conv2D)          (1, 1, 1, 32)             9248      \n",
            "                                                                 \n",
            " max_pooling2d_12 (MaxPoolin  (1, 1, 1, 32)            0         \n",
            " g2D)                                                            \n",
            "                                                                 \n",
            " conv2d_26 (Conv2D)          (1, 1, 1, 64)             18496     \n",
            "                                                                 \n",
            " conv2d_27 (Conv2D)          (1, 1, 1, 64)             36928     \n",
            "                                                                 \n",
            " max_pooling2d_13 (MaxPoolin  (1, 1, 1, 64)            0         \n",
            " g2D)                                                            \n",
            "                                                                 \n",
            " conv2d_28 (Conv2D)          (1, 1, 1, 128)            73856     \n",
            "                                                                 \n",
            " conv2d_29 (Conv2D)          (1, 1, 1, 128)            147584    \n",
            "                                                                 \n",
            " max_pooling2d_14 (MaxPoolin  (1, 1, 1, 128)           0         \n",
            " g2D)                                                            \n",
            "                                                                 \n",
            " conv2d_30 (Conv2D)          (1, 1, 1, 64)             73792     \n",
            "                                                                 \n",
            " conv2d_31 (Conv2D)          (1, 1, 1, 64)             36928     \n",
            "                                                                 \n",
            " max_pooling2d_15 (MaxPoolin  (1, 1, 1, 64)            0         \n",
            " g2D)                                                            \n",
            "                                                                 \n",
            " conv2d_32 (Conv2D)          (1, 1, 1, 32)             18464     \n",
            "                                                                 \n",
            " conv2d_33 (Conv2D)          (1, 1, 1, 32)             9248      \n",
            "                                                                 \n",
            " max_pooling2d_16 (MaxPoolin  (1, 1, 1, 32)            0         \n",
            " g2D)                                                            \n",
            "                                                                 \n",
            " conv2d_34 (Conv2D)          (1, 1, 1, 24)             6936      \n",
            "                                                                 \n",
            " conv2d_35 (Conv2D)          (1, 1, 1, 24)             5208      \n",
            "                                                                 \n",
            " max_pooling2d_17 (MaxPoolin  (1, 1, 1, 24)            0         \n",
            " g2D)                                                            \n",
            "                                                                 \n",
            " conv2d_36 (Conv2D)          (1, 1, 1, 16)             3472      \n",
            "                                                                 \n",
            " conv2d_37 (Conv2D)          (1, 1, 1, 16)             2320      \n",
            "                                                                 \n",
            " max_pooling2d_18 (MaxPoolin  (1, 1, 1, 16)            0         \n",
            " g2D)                                                            \n",
            "                                                                 \n",
            " flatten_2 (Flatten)         (1, 16)                   0         \n",
            "                                                                 \n",
            " dense_4 (Dense)             (1, 256)                  4352      \n",
            "                                                                 \n",
            " activation_4 (Activation)   (1, 256)                  0         \n",
            "                                                                 \n",
            " dense_5 (Dense)             (1, 10)                   2570      \n",
            "                                                                 \n",
            " activation_5 (Activation)   (1, 10)                   0         \n",
            "                                                                 \n",
            "=================================================================\n",
            "Total params: 467,514\n",
            "Trainable params: 467,514\n",
            "Non-trainable params: 0\n",
            "_________________________________________________________________\n"
          ]
        }
      ]
    },
    {
      "cell_type": "code",
      "source": [
        "model3 = hg_model\n",
        "# Train the model.\n",
        "history3 = model3.fit(\n",
        "    x_train,\n",
        "    y_train, validation_split = 0.2, \n",
        "    batch_size=500,epochs=25)\n"
      ],
      "metadata": {
        "colab": {
          "base_uri": "https://localhost:8080/"
        },
        "id": "JIkND1VjOIwk",
        "outputId": "0194fd10-b26c-4826-ef57-02551976c4bb"
      },
      "execution_count": null,
      "outputs": [
        {
          "output_type": "stream",
          "name": "stdout",
          "text": [
            "Epoch 1/25\n",
            "96/96 [==============================] - 4s 21ms/step - loss: 2.3014 - accuracy: 0.1137 - val_loss: 2.3023 - val_accuracy: 0.1060\n",
            "Epoch 2/25\n",
            "96/96 [==============================] - 2s 18ms/step - loss: 2.3012 - accuracy: 0.1140 - val_loss: 2.3019 - val_accuracy: 0.1060\n",
            "Epoch 3/25\n",
            "96/96 [==============================] - 2s 18ms/step - loss: 2.3011 - accuracy: 0.1140 - val_loss: 2.3020 - val_accuracy: 0.1060\n",
            "Epoch 4/25\n",
            "96/96 [==============================] - 2s 18ms/step - loss: 2.3012 - accuracy: 0.1140 - val_loss: 2.3020 - val_accuracy: 0.1060\n",
            "Epoch 5/25\n",
            "96/96 [==============================] - 2s 18ms/step - loss: 2.3011 - accuracy: 0.1140 - val_loss: 2.3019 - val_accuracy: 0.1060\n",
            "Epoch 6/25\n",
            "96/96 [==============================] - 2s 18ms/step - loss: 2.3012 - accuracy: 0.1140 - val_loss: 2.3020 - val_accuracy: 0.1060\n",
            "Epoch 7/25\n",
            "96/96 [==============================] - 2s 18ms/step - loss: 2.3011 - accuracy: 0.1140 - val_loss: 2.3021 - val_accuracy: 0.1060\n",
            "Epoch 8/25\n",
            "96/96 [==============================] - 2s 18ms/step - loss: 2.3011 - accuracy: 0.1140 - val_loss: 2.3021 - val_accuracy: 0.1060\n",
            "Epoch 9/25\n",
            "96/96 [==============================] - 2s 18ms/step - loss: 2.3011 - accuracy: 0.1140 - val_loss: 2.3021 - val_accuracy: 0.1060\n",
            "Epoch 10/25\n",
            "96/96 [==============================] - 2s 18ms/step - loss: 2.3011 - accuracy: 0.1140 - val_loss: 2.3021 - val_accuracy: 0.1060\n",
            "Epoch 11/25\n",
            "96/96 [==============================] - 2s 18ms/step - loss: 2.3011 - accuracy: 0.1140 - val_loss: 2.3020 - val_accuracy: 0.1060\n",
            "Epoch 12/25\n",
            "96/96 [==============================] - 2s 18ms/step - loss: 2.3011 - accuracy: 0.1140 - val_loss: 2.3022 - val_accuracy: 0.1060\n",
            "Epoch 13/25\n",
            "96/96 [==============================] - 2s 18ms/step - loss: 2.3011 - accuracy: 0.1140 - val_loss: 2.3021 - val_accuracy: 0.1060\n",
            "Epoch 14/25\n",
            "96/96 [==============================] - 2s 18ms/step - loss: 2.3011 - accuracy: 0.1140 - val_loss: 2.3020 - val_accuracy: 0.1060\n",
            "Epoch 15/25\n",
            "96/96 [==============================] - 2s 18ms/step - loss: 2.3011 - accuracy: 0.1140 - val_loss: 2.3022 - val_accuracy: 0.1060\n",
            "Epoch 16/25\n",
            "96/96 [==============================] - 2s 18ms/step - loss: 2.3011 - accuracy: 0.1140 - val_loss: 2.3022 - val_accuracy: 0.1060\n",
            "Epoch 17/25\n",
            "96/96 [==============================] - 2s 18ms/step - loss: 2.3011 - accuracy: 0.1140 - val_loss: 2.3022 - val_accuracy: 0.1060\n",
            "Epoch 18/25\n",
            "96/96 [==============================] - 2s 18ms/step - loss: 2.3011 - accuracy: 0.1140 - val_loss: 2.3025 - val_accuracy: 0.1060\n",
            "Epoch 19/25\n",
            "96/96 [==============================] - 2s 18ms/step - loss: 2.3011 - accuracy: 0.1140 - val_loss: 2.3022 - val_accuracy: 0.1060\n",
            "Epoch 20/25\n",
            "96/96 [==============================] - 2s 18ms/step - loss: 2.3011 - accuracy: 0.1140 - val_loss: 2.3019 - val_accuracy: 0.1060\n",
            "Epoch 21/25\n",
            "96/96 [==============================] - 2s 18ms/step - loss: 2.3011 - accuracy: 0.1140 - val_loss: 2.3020 - val_accuracy: 0.1060\n",
            "Epoch 22/25\n",
            "96/96 [==============================] - 2s 18ms/step - loss: 2.3011 - accuracy: 0.1140 - val_loss: 2.3021 - val_accuracy: 0.1060\n",
            "Epoch 23/25\n",
            "96/96 [==============================] - 2s 18ms/step - loss: 2.3011 - accuracy: 0.1140 - val_loss: 2.3020 - val_accuracy: 0.1060\n",
            "Epoch 24/25\n",
            "96/96 [==============================] - 2s 18ms/step - loss: 2.3011 - accuracy: 0.1140 - val_loss: 2.3019 - val_accuracy: 0.1060\n",
            "Epoch 25/25\n",
            "96/96 [==============================] - 2s 18ms/step - loss: 2.3011 - accuracy: 0.1140 - val_loss: 2.3019 - val_accuracy: 0.1060\n"
          ]
        }
      ]
    },
    {
      "cell_type": "code",
      "source": [
        "plt.plot(history3.history['accuracy'])\n",
        "plt.plot(history3.history['val_accuracy'])\n",
        "plt.title('Hour Glass model accuracy')\n",
        "plt.ylabel('accuracy')\n",
        "plt.xlabel('epoch')\n",
        "plt.legend(['train', 'val'], loc='lower right')\n",
        "plt.show()"
      ],
      "metadata": {
        "colab": {
          "base_uri": "https://localhost:8080/",
          "height": 295
        },
        "id": "5yX6BfN_OovX",
        "outputId": "c9c49427-f1d8-4392-d6f2-10287c218c63"
      },
      "execution_count": null,
      "outputs": [
        {
          "output_type": "display_data",
          "data": {
            "text/plain": [
              "<Figure size 432x288 with 1 Axes>"
            ],
            "image/png": "[encoded data removed]"
          },
          "metadata": {
            "needs_background": "light"
          }
        }
      ]
    },
    {
      "cell_type": "code",
      "source": [
        "# Evaluation\n",
        "score3 = model3.evaluate(x_test, y_test)\n",
        "print('Test loss:', score3[0])\n",
        "print('Test accuracy:', score3[1])"
      ],
      "metadata": {
        "colab": {
          "base_uri": "https://localhost:8080/"
        },
        "id": "hF8_1F7cR4ov",
        "outputId": "1c97d83a-5882-4caa-b1be-3658823da28e"
      },
      "execution_count": null,
      "outputs": [
        {
          "output_type": "stream",
          "name": "stdout",
          "text": [
            "313/313 [==============================] - 2s 5ms/step - loss: 2.3010 - accuracy: 0.1135\n",
            "Test loss: 2.301046133041382\n",
            "Test accuracy: 0.11349999904632568\n"
          ]
        }
      ]
    },
    {
      "cell_type": "code",
      "source": [],
      "metadata": {
        "id": "R_jCZhJe_sfv"
      },
      "execution_count": null,
      "outputs": []
    }
  ]
}