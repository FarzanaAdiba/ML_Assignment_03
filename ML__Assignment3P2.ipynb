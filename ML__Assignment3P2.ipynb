{
  "nbformat": 4,
  "nbformat_minor": 0,
  "metadata": {
    "colab": {
      "provenance": [],
      "authorship_tag": "ABX9TyPr3petmb2VI3r9EJRw2Okm",
      "include_colab_link": true
    },
    "kernelspec": {
      "name": "python3",
      "display_name": "Python 3"
    },
    "language_info": {
      "name": "python"
    },
    "accelerator": "GPU",
    "gpuClass": "standard"
  },
  "cells": [
    {
      "cell_type": "markdown",
      "metadata": {
        "id": "view-in-github",
        "colab_type": "text"
      },
      "source": [
        "<a href=\"https://colab.research.google.com/github/FarzanaAdiba/ML_Assignment_03/blob/main/ML__Assignment3P2.ipynb\" target=\"_parent\"><img src=\"https://colab.research.google.com/assets/colab-badge.svg\" alt=\"Open In Colab\"/></a>"
      ]
    },
    {
      "cell_type": "code",
      "execution_count": null,
      "metadata": {
        "id": "qRI_xjzqTpWY"
      },
      "outputs": [],
      "source": [
        "import tensorflow as tf\n",
        "from tensorflow import keras\n",
        "import numpy as np\n",
        "from keras import datasets, layers, models\n",
        "from keras.models import Model\n",
        "from keras.layers import Dense, Input\n",
        "from keras.layers import Conv2D, MaxPooling2D, Dropout, Flatten\n"
      ]
    },
    {
      "cell_type": "code",
      "source": [
        "#importing CIFAR10 dataset\n",
        "(x_train, y_train), (x_test, y_test) = datasets.cifar10.load_data()"
      ],
      "metadata": {
        "id": "D8Nh6tVqUiRI",
        "colab": {
          "base_uri": "https://localhost:8080/"
        },
        "outputId": "f89b81d7-3341-47a4-aef1-17911b7dcdac"
      },
      "execution_count": null,
      "outputs": [
        {
          "output_type": "stream",
          "name": "stdout",
          "text": [
            "Downloading data from https://www.cs.toronto.edu/~kriz/cifar-10-python.tar.gz\n",
            "170498071/170498071 [==============================] - 2s 0us/step\n"
          ]
        }
      ]
    },
    {
      "cell_type": "code",
      "source": [
        "x_train.shape,y_train.shape, x_test.shape,y_test.shape"
      ],
      "metadata": {
        "colab": {
          "base_uri": "https://localhost:8080/"
        },
        "id": "FeXymIESVRhT",
        "outputId": "08049794-76b6-4732-cc10-57e684846da9"
      },
      "execution_count": null,
      "outputs": [
        {
          "output_type": "execute_result",
          "data": {
            "text/plain": [
              "((50000, 32, 32, 3), (50000, 1), (10000, 32, 32, 3), (10000, 1))"
            ]
          },
          "metadata": {},
          "execution_count": 3
        }
      ]
    },
    {
      "cell_type": "code",
      "source": [
        "x_train=x_train.reshape(50000,32,32,3) #reshape the train data\n",
        "x_test=x_test.reshape(10000,32,32,3) #reshape test data\n",
        "\n",
        "x_train=x_train.astype('float32') #define the type\n",
        "x_test=x_test.astype('float32')\n"
      ],
      "metadata": {
        "id": "9aNkgBdAWfXj"
      },
      "execution_count": null,
      "outputs": []
    },
    {
      "cell_type": "code",
      "source": [
        "#normalizing the train and test data\n",
        "x_train /=255 \n",
        "x_test /=255\n",
        "print(x_train.shape)\n",
        "print(y_test.shape)"
      ],
      "metadata": {
        "colab": {
          "base_uri": "https://localhost:8080/"
        },
        "id": "0-RVdRg5Z0jd",
        "outputId": "7ed6d1da-8a4d-423a-c2d7-2c4f22d8309c"
      },
      "execution_count": null,
      "outputs": [
        {
          "output_type": "stream",
          "name": "stdout",
          "text": [
            "(50000, 32, 32, 3)\n",
            "(10000, 1)\n"
          ]
        }
      ]
    },
    {
      "cell_type": "code",
      "source": [
        "lenet = models.Sequential([\n",
        "    layers.Conv2D(6, (5, 5), strides=(1,1),padding='same',activation='relu'),\n",
        "    layers.MaxPooling2D((2, 2),strides=(2,2)),\n",
        "    \n",
        "    layers.Conv2D(16, (5, 5), strides=(1,1),padding='same', activation='relu'),\n",
        "    layers.MaxPooling2D((2, 2),strides=(2,2)),\n",
        "    layers.Conv2D(120,(5, 5),padding='same', activation='relu'),\n",
        "    \n",
        "    layers.Flatten(),\n",
        "    layers.Dense(84, activation='relu'),\n",
        "    layers.Dense(10, activation='softmax')\n",
        "])"
      ],
      "metadata": {
        "id": "fyh2HeIxZ2xt"
      },
      "execution_count": null,
      "outputs": []
    },
    {
      "cell_type": "code",
      "source": [
        "opt_lr = tf.keras.optimizers.Adam(learning_rate=0.001) # here I use adam optimizer with learning rate 0.001\n",
        "lenet.compile(loss='sparse_categorical_crossentropy', optimizer=opt_lr, metrics=['accuracy'])\n",
        "lenet.build(input_shape=(128,32,32,3)) # here I build the model\n",
        "\n",
        "lenet.summary() "
      ],
      "metadata": {
        "colab": {
          "base_uri": "https://localhost:8080/"
        },
        "id": "jJ7GbdH4bBkv",
        "outputId": "a2e6a6d9-c1dd-44b1-b57c-7cb601c17321"
      },
      "execution_count": null,
      "outputs": [
        {
          "output_type": "stream",
          "name": "stdout",
          "text": [
            "Model: \"sequential\"\n",
            "_________________________________________________________________\n",
            " Layer (type)                Output Shape              Param #   \n",
            "=================================================================\n",
            " conv2d (Conv2D)             (128, 32, 32, 6)          456       \n",
            "                                                                 \n",
            " max_pooling2d (MaxPooling2D  (128, 16, 16, 6)         0         \n",
            " )                                                               \n",
            "                                                                 \n",
            " conv2d_1 (Conv2D)           (128, 16, 16, 16)         2416      \n",
            "                                                                 \n",
            " max_pooling2d_1 (MaxPooling  (128, 8, 8, 16)          0         \n",
            " 2D)                                                             \n",
            "                                                                 \n",
            " conv2d_2 (Conv2D)           (128, 8, 8, 120)          48120     \n",
            "                                                                 \n",
            " flatten (Flatten)           (128, 7680)               0         \n",
            "                                                                 \n",
            " dense (Dense)               (128, 84)                 645204    \n",
            "                                                                 \n",
            " dense_1 (Dense)             (128, 10)                 850       \n",
            "                                                                 \n",
            "=================================================================\n",
            "Total params: 697,046\n",
            "Trainable params: 697,046\n",
            "Non-trainable params: 0\n",
            "_________________________________________________________________\n"
          ]
        }
      ]
    },
    {
      "cell_type": "code",
      "source": [
        "history1=lenet.fit(x_train, y_train,\n",
        "          batch_size=256, epochs=25,\n",
        "          verbose=1) "
      ],
      "metadata": {
        "colab": {
          "base_uri": "https://localhost:8080/"
        },
        "id": "rh8mkssEcG6S",
        "outputId": "4b33799f-8b5a-4b9e-e011-92c49501b554"
      },
      "execution_count": null,
      "outputs": [
        {
          "output_type": "stream",
          "name": "stdout",
          "text": [
            "Epoch 1/25\n",
            "196/196 [==============================] - 10s 9ms/step - loss: 1.7046 - accuracy: 0.3858\n",
            "Epoch 2/25\n",
            "196/196 [==============================] - 2s 8ms/step - loss: 1.3582 - accuracy: 0.5211\n",
            "Epoch 3/25\n",
            "196/196 [==============================] - 2s 8ms/step - loss: 1.2104 - accuracy: 0.5744\n",
            "Epoch 4/25\n",
            "196/196 [==============================] - 2s 8ms/step - loss: 1.1099 - accuracy: 0.6105\n",
            "Epoch 5/25\n",
            "196/196 [==============================] - 2s 8ms/step - loss: 1.0260 - accuracy: 0.6432\n",
            "Epoch 6/25\n",
            "196/196 [==============================] - 2s 8ms/step - loss: 0.9728 - accuracy: 0.6610\n",
            "Epoch 7/25\n",
            "196/196 [==============================] - 2s 8ms/step - loss: 0.9073 - accuracy: 0.6831\n",
            "Epoch 8/25\n",
            "196/196 [==============================] - 2s 8ms/step - loss: 0.8436 - accuracy: 0.7093\n",
            "Epoch 9/25\n",
            "196/196 [==============================] - 2s 8ms/step - loss: 0.7990 - accuracy: 0.7225\n",
            "Epoch 10/25\n",
            "196/196 [==============================] - 2s 8ms/step - loss: 0.7381 - accuracy: 0.7439\n",
            "Epoch 11/25\n",
            "196/196 [==============================] - 2s 8ms/step - loss: 0.6904 - accuracy: 0.7604\n",
            "Epoch 12/25\n",
            "196/196 [==============================] - 2s 8ms/step - loss: 0.6370 - accuracy: 0.7797\n",
            "Epoch 13/25\n",
            "196/196 [==============================] - 2s 8ms/step - loss: 0.5893 - accuracy: 0.7969\n",
            "Epoch 14/25\n",
            "196/196 [==============================] - 2s 8ms/step - loss: 0.5360 - accuracy: 0.8145\n",
            "Epoch 15/25\n",
            "196/196 [==============================] - 2s 8ms/step - loss: 0.4863 - accuracy: 0.8323\n",
            "Epoch 16/25\n",
            "196/196 [==============================] - 2s 8ms/step - loss: 0.4417 - accuracy: 0.8482\n",
            "Epoch 17/25\n",
            "196/196 [==============================] - 2s 8ms/step - loss: 0.3862 - accuracy: 0.8675\n",
            "Epoch 18/25\n",
            "196/196 [==============================] - 2s 8ms/step - loss: 0.3403 - accuracy: 0.8839\n",
            "Epoch 19/25\n",
            "196/196 [==============================] - 2s 8ms/step - loss: 0.2952 - accuracy: 0.8997\n",
            "Epoch 20/25\n",
            "196/196 [==============================] - 2s 8ms/step - loss: 0.2586 - accuracy: 0.9146\n",
            "Epoch 21/25\n",
            "196/196 [==============================] - 2s 8ms/step - loss: 0.2190 - accuracy: 0.9264\n",
            "Epoch 22/25\n",
            "196/196 [==============================] - 2s 8ms/step - loss: 0.1870 - accuracy: 0.9366\n",
            "Epoch 23/25\n",
            "196/196 [==============================] - 2s 8ms/step - loss: 0.1674 - accuracy: 0.9453\n",
            "Epoch 24/25\n",
            "196/196 [==============================] - 2s 8ms/step - loss: 0.1322 - accuracy: 0.9575\n",
            "Epoch 25/25\n",
            "196/196 [==============================] - 2s 8ms/step - loss: 0.1166 - accuracy: 0.9630\n"
          ]
        }
      ]
    },
    {
      "cell_type": "code",
      "source": [
        "lenet.evaluate(x_test, y_test)"
      ],
      "metadata": {
        "colab": {
          "base_uri": "https://localhost:8080/"
        },
        "id": "h2UBlOrle867",
        "outputId": "c3edecec-82a1-4413-d182-65936689b2c8"
      },
      "execution_count": null,
      "outputs": [
        {
          "output_type": "stream",
          "name": "stdout",
          "text": [
            "313/313 [==============================] - 1s 3ms/step - loss: 1.6769 - accuracy: 0.6750\n"
          ]
        },
        {
          "output_type": "execute_result",
          "data": {
            "text/plain": [
              "[1.6768563985824585, 0.675000011920929]"
            ]
          },
          "metadata": {},
          "execution_count": 9
        }
      ]
    },
    {
      "cell_type": "code",
      "source": [
        "print (history1.history.keys())"
      ],
      "metadata": {
        "colab": {
          "base_uri": "https://localhost:8080/"
        },
        "id": "aTA0m-HUiUX7",
        "outputId": "61da7d72-6ce1-4ab0-aa33-8c6ded83b273"
      },
      "execution_count": null,
      "outputs": [
        {
          "output_type": "stream",
          "name": "stdout",
          "text": [
            "dict_keys(['loss', 'accuracy'])\n"
          ]
        }
      ]
    },
    {
      "cell_type": "markdown",
      "source": [
        "###Changes in learning rate"
      ],
      "metadata": {
        "id": "sNgZTDhgk6Gl"
      }
    },
    {
      "cell_type": "code",
      "source": [
        "lenet2 = models.Sequential([\n",
        "    layers.Conv2D(6, (5, 5), strides=(1,1),padding='same',activation='relu'),\n",
        "    layers.MaxPooling2D((2, 2),strides=(2,2)),\n",
        "    \n",
        "    layers.Conv2D(16, (5, 5), strides=(1,1),padding='same', activation='relu'),\n",
        "    layers.MaxPooling2D((2, 2),strides=(2,2)),\n",
        "    layers.Conv2D(120,(5, 5),padding='same', activation='relu'),\n",
        "    \n",
        "    layers.Flatten(),\n",
        "    layers.Dense(84, activation='relu'),\n",
        "    layers.Dense(10, activation='softmax')\n",
        "])"
      ],
      "metadata": {
        "id": "WJTHBCByi4vs"
      },
      "execution_count": null,
      "outputs": []
    },
    {
      "cell_type": "code",
      "source": [
        "cng_lr = tf.keras.optimizers.Adam(learning_rate=0.005) # here I use adam optimizer with learning rate 0.001\n",
        "lenet2.compile(loss='sparse_categorical_crossentropy', optimizer=cng_lr, metrics=['accuracy'])\n",
        "lenet2.build(input_shape=(128,32,32,3)) # here I build the model\n",
        "\n",
        "lenet2.summary() "
      ],
      "metadata": {
        "colab": {
          "base_uri": "https://localhost:8080/"
        },
        "id": "hPyHQT8flGv6",
        "outputId": "bc09b599-6f38-408d-e10c-97259286afef"
      },
      "execution_count": null,
      "outputs": [
        {
          "output_type": "stream",
          "name": "stdout",
          "text": [
            "Model: \"sequential_1\"\n",
            "_________________________________________________________________\n",
            " Layer (type)                Output Shape              Param #   \n",
            "=================================================================\n",
            " conv2d_3 (Conv2D)           (128, 32, 32, 6)          456       \n",
            "                                                                 \n",
            " max_pooling2d_2 (MaxPooling  (128, 16, 16, 6)         0         \n",
            " 2D)                                                             \n",
            "                                                                 \n",
            " conv2d_4 (Conv2D)           (128, 16, 16, 16)         2416      \n",
            "                                                                 \n",
            " max_pooling2d_3 (MaxPooling  (128, 8, 8, 16)          0         \n",
            " 2D)                                                             \n",
            "                                                                 \n",
            " conv2d_5 (Conv2D)           (128, 8, 8, 120)          48120     \n",
            "                                                                 \n",
            " flatten_1 (Flatten)         (128, 7680)               0         \n",
            "                                                                 \n",
            " dense_2 (Dense)             (128, 84)                 645204    \n",
            "                                                                 \n",
            " dense_3 (Dense)             (128, 10)                 850       \n",
            "                                                                 \n",
            "=================================================================\n",
            "Total params: 697,046\n",
            "Trainable params: 697,046\n",
            "Non-trainable params: 0\n",
            "_________________________________________________________________\n"
          ]
        }
      ]
    },
    {
      "cell_type": "code",
      "source": [
        "history2=lenet2.fit(x_train, y_train,\n",
        "          batch_size=128, epochs=25,\n",
        "          verbose=1) "
      ],
      "metadata": {
        "colab": {
          "base_uri": "https://localhost:8080/"
        },
        "id": "pFFNw8lXlUys",
        "outputId": "661c20dd-bbc3-4aeb-a853-f18b4a49b94e"
      },
      "execution_count": null,
      "outputs": [
        {
          "output_type": "stream",
          "name": "stdout",
          "text": [
            "Epoch 1/25\n",
            "391/391 [==============================] - 3s 6ms/step - loss: 1.6524 - accuracy: 0.3951\n",
            "Epoch 2/25\n",
            "391/391 [==============================] - 2s 5ms/step - loss: 1.3322 - accuracy: 0.5243\n",
            "Epoch 3/25\n",
            "391/391 [==============================] - 2s 5ms/step - loss: 1.2001 - accuracy: 0.5729\n",
            "Epoch 4/25\n",
            "391/391 [==============================] - 2s 5ms/step - loss: 1.1079 - accuracy: 0.6088\n",
            "Epoch 5/25\n",
            "391/391 [==============================] - 2s 5ms/step - loss: 1.0340 - accuracy: 0.6319\n",
            "Epoch 6/25\n",
            "391/391 [==============================] - 2s 5ms/step - loss: 0.9788 - accuracy: 0.6519\n",
            "Epoch 7/25\n",
            "391/391 [==============================] - 2s 5ms/step - loss: 0.9127 - accuracy: 0.6753\n",
            "Epoch 8/25\n",
            "391/391 [==============================] - 2s 5ms/step - loss: 0.8683 - accuracy: 0.6919\n",
            "Epoch 9/25\n",
            "391/391 [==============================] - 2s 5ms/step - loss: 0.8183 - accuracy: 0.7087\n",
            "Epoch 10/25\n",
            "391/391 [==============================] - 2s 6ms/step - loss: 0.7711 - accuracy: 0.7233\n",
            "Epoch 11/25\n",
            "391/391 [==============================] - 2s 5ms/step - loss: 0.7231 - accuracy: 0.7412\n",
            "Epoch 12/25\n",
            "391/391 [==============================] - 2s 5ms/step - loss: 0.6894 - accuracy: 0.7536\n",
            "Epoch 13/25\n",
            "391/391 [==============================] - 2s 6ms/step - loss: 0.6360 - accuracy: 0.7705\n",
            "Epoch 14/25\n",
            "391/391 [==============================] - 2s 5ms/step - loss: 0.6033 - accuracy: 0.7821\n",
            "Epoch 15/25\n",
            "391/391 [==============================] - 2s 6ms/step - loss: 0.5739 - accuracy: 0.7942\n",
            "Epoch 16/25\n",
            "391/391 [==============================] - 2s 5ms/step - loss: 0.5403 - accuracy: 0.8059\n",
            "Epoch 17/25\n",
            "391/391 [==============================] - 2s 5ms/step - loss: 0.5254 - accuracy: 0.8108\n",
            "Epoch 18/25\n",
            "391/391 [==============================] - 2s 5ms/step - loss: 0.4847 - accuracy: 0.8254\n",
            "Epoch 19/25\n",
            "391/391 [==============================] - 2s 5ms/step - loss: 0.4675 - accuracy: 0.8312\n",
            "Epoch 20/25\n",
            "391/391 [==============================] - 2s 6ms/step - loss: 0.4433 - accuracy: 0.8408\n",
            "Epoch 21/25\n",
            "391/391 [==============================] - 2s 6ms/step - loss: 0.4249 - accuracy: 0.8483\n",
            "Epoch 22/25\n",
            "391/391 [==============================] - 2s 6ms/step - loss: 0.4043 - accuracy: 0.8549\n",
            "Epoch 23/25\n",
            "391/391 [==============================] - 2s 5ms/step - loss: 0.4089 - accuracy: 0.8546\n",
            "Epoch 24/25\n",
            "391/391 [==============================] - 2s 6ms/step - loss: 0.3774 - accuracy: 0.8664\n",
            "Epoch 25/25\n",
            "391/391 [==============================] - 2s 6ms/step - loss: 0.3578 - accuracy: 0.8725\n"
          ]
        }
      ]
    },
    {
      "cell_type": "code",
      "source": [
        "lenet2.evaluate(x_test,y_test)"
      ],
      "metadata": {
        "colab": {
          "base_uri": "https://localhost:8080/"
        },
        "id": "9uqZaURym_0m",
        "outputId": "4be1556c-10df-47b3-f206-fc2cf5bfe08d"
      },
      "execution_count": null,
      "outputs": [
        {
          "output_type": "stream",
          "name": "stdout",
          "text": [
            "313/313 [==============================] - 1s 3ms/step - loss: 2.4701 - accuracy: 0.5482\n"
          ]
        },
        {
          "output_type": "execute_result",
          "data": {
            "text/plain": [
              "[2.470113515853882, 0.5482000112533569]"
            ]
          },
          "metadata": {},
          "execution_count": 14
        }
      ]
    },
    {
      "cell_type": "markdown",
      "source": [
        "Creating Feed Forward Network"
      ],
      "metadata": {
        "id": "N3hlIVKU9INO"
      }
    },
    {
      "cell_type": "code",
      "source": [
        "ffn=tf.keras.models.Sequential([\n",
        "    tf.keras.layers.Flatten(),\n",
        "    tf.keras.layers.Dense(456, activation='relu'),\n",
        "    tf.keras.layers.Dense(2416, activation='relu'),\n",
        "    tf.keras.layers.Dense(48120, activation='relu'),\n",
        "    tf.keras.layers.Dense(10, activation='softmax')    \n",
        "])"
      ],
      "metadata": {
        "id": "mLrabgne9HhH"
      },
      "execution_count": null,
      "outputs": []
    },
    {
      "cell_type": "code",
      "source": [
        "ffn.build(input_shape=(128, 32,32,3))\n",
        "ffn.summary()\n",
        "opt_lr = tf.keras.optimizers.Adam(learning_rate=0.001)\n",
        "ffn.compile(loss='sparse_categorical_crossentropy', optimizer=opt_lr, metrics=['accuracy'])\n",
        "\n",
        "ffn.fit(x_train, y_train,\n",
        "          batch_size=128, epochs=25,\n",
        "          verbose=1)"
      ],
      "metadata": {
        "colab": {
          "base_uri": "https://localhost:8080/"
        },
        "id": "2jBsygE8AGxR",
        "outputId": "227370c3-762a-4a5e-a450-1a0371c6f3ff"
      },
      "execution_count": null,
      "outputs": [
        {
          "output_type": "stream",
          "name": "stdout",
          "text": [
            "Model: \"sequential_2\"\n",
            "_________________________________________________________________\n",
            " Layer (type)                Output Shape              Param #   \n",
            "=================================================================\n",
            " flatten_2 (Flatten)         (128, 3072)               0         \n",
            "                                                                 \n",
            " dense_4 (Dense)             (128, 456)                1401288   \n",
            "                                                                 \n",
            " dense_5 (Dense)             (128, 2416)               1104112   \n",
            "                                                                 \n",
            " dense_6 (Dense)             (128, 48120)              116306040 \n",
            "                                                                 \n",
            " dense_7 (Dense)             (128, 10)                 481210    \n",
            "                                                                 \n",
            "=================================================================\n",
            "Total params: 119,292,650\n",
            "Trainable params: 119,292,650\n",
            "Non-trainable params: 0\n",
            "_________________________________________________________________\n",
            "Epoch 1/25\n",
            "391/391 [==============================] - 17s 43ms/step - loss: 2.1560 - accuracy: 0.1940\n",
            "Epoch 2/25\n",
            "391/391 [==============================] - 17s 43ms/step - loss: 2.0219 - accuracy: 0.2209\n",
            "Epoch 3/25\n",
            "391/391 [==============================] - 17s 44ms/step - loss: 2.0145 - accuracy: 0.2301\n",
            "Epoch 4/25\n",
            "391/391 [==============================] - 17s 44ms/step - loss: 2.0043 - accuracy: 0.2366\n",
            "Epoch 5/25\n",
            "391/391 [==============================] - 17s 44ms/step - loss: 1.9960 - accuracy: 0.2392\n",
            "Epoch 6/25\n",
            "391/391 [==============================] - 17s 44ms/step - loss: 1.9894 - accuracy: 0.2442\n",
            "Epoch 7/25\n",
            "391/391 [==============================] - 17s 44ms/step - loss: 1.9850 - accuracy: 0.2488\n",
            "Epoch 8/25\n",
            "391/391 [==============================] - 17s 44ms/step - loss: 1.9849 - accuracy: 0.2467\n",
            "Epoch 9/25\n",
            "391/391 [==============================] - 17s 44ms/step - loss: 1.9828 - accuracy: 0.2489\n",
            "Epoch 10/25\n",
            "391/391 [==============================] - 17s 44ms/step - loss: 1.9743 - accuracy: 0.2532\n",
            "Epoch 11/25\n",
            "391/391 [==============================] - 17s 44ms/step - loss: 1.9794 - accuracy: 0.2486\n",
            "Epoch 12/25\n",
            "391/391 [==============================] - 18s 45ms/step - loss: 1.9722 - accuracy: 0.2532\n",
            "Epoch 13/25\n",
            "391/391 [==============================] - 18s 46ms/step - loss: 1.9707 - accuracy: 0.2542\n",
            "Epoch 14/25\n",
            "391/391 [==============================] - 18s 46ms/step - loss: 1.9702 - accuracy: 0.2565\n",
            "Epoch 15/25\n",
            "391/391 [==============================] - 18s 45ms/step - loss: 1.9765 - accuracy: 0.2520\n",
            "Epoch 16/25\n",
            "391/391 [==============================] - 18s 45ms/step - loss: 1.9697 - accuracy: 0.2569\n",
            "Epoch 17/25\n",
            "391/391 [==============================] - 18s 45ms/step - loss: 1.9661 - accuracy: 0.2567\n",
            "Epoch 18/25\n",
            "391/391 [==============================] - 18s 45ms/step - loss: 1.9653 - accuracy: 0.2579\n",
            "Epoch 19/25\n",
            "391/391 [==============================] - 18s 45ms/step - loss: 1.9684 - accuracy: 0.2565\n",
            "Epoch 20/25\n",
            "391/391 [==============================] - 18s 45ms/step - loss: 1.9576 - accuracy: 0.2618\n",
            "Epoch 21/25\n",
            "391/391 [==============================] - 18s 45ms/step - loss: 1.9636 - accuracy: 0.2600\n",
            "Epoch 22/25\n",
            "391/391 [==============================] - 18s 45ms/step - loss: 1.9563 - accuracy: 0.2606\n",
            "Epoch 23/25\n",
            "391/391 [==============================] - 18s 45ms/step - loss: 1.9556 - accuracy: 0.2652\n",
            "Epoch 24/25\n",
            "391/391 [==============================] - 18s 45ms/step - loss: 1.9508 - accuracy: 0.2645\n",
            "Epoch 25/25\n",
            "391/391 [==============================] - 18s 45ms/step - loss: 1.9523 - accuracy: 0.2668\n"
          ]
        },
        {
          "output_type": "execute_result",
          "data": {
            "text/plain": [
              "<keras.callbacks.History at 0x7f8a00626fd0>"
            ]
          },
          "metadata": {},
          "execution_count": 16
        }
      ]
    },
    {
      "cell_type": "code",
      "source": [
        "ffn.evaluate(x_test,y_test)"
      ],
      "metadata": {
        "colab": {
          "base_uri": "https://localhost:8080/"
        },
        "id": "JZBWeHSVCRHU",
        "outputId": "c56845fa-2fdb-437b-fd2e-842ad8e21fca"
      },
      "execution_count": null,
      "outputs": [
        {
          "output_type": "stream",
          "name": "stdout",
          "text": [
            "313/313 [==============================] - 2s 5ms/step - loss: 1.9638 - accuracy: 0.2555\n"
          ]
        },
        {
          "output_type": "execute_result",
          "data": {
            "text/plain": [
              "[1.9638466835021973, 0.2554999887943268]"
            ]
          },
          "metadata": {},
          "execution_count": 17
        }
      ]
    }
  ]
}